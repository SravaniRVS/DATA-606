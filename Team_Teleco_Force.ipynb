{
 "cells": [
  {
   "cell_type": "markdown",
   "id": "e5bd6632",
   "metadata": {
    "id": "e5bd6632"
   },
   "source": [
    "# CUSTOMER CHURN PREDICTION\n",
    "\n",
    "\n",
    "### CONTENT\n",
    "\n",
    "Each row represents a customer, each column contains customer’s attributes described on the column Metadata.\n",
    "\n",
    "The data set includes information about:\n",
    "\n",
    "1. Customers who left within the last month – the column is called Churn\n",
    "2. Services that each customer has signed up for – phone, multiple lines, internet, online security, online backup, device protection, tech support, and streaming TV and movies\n",
    "3. Customer account information – how long they’ve been a customer, contract, payment method, paperless billing, monthly charges, and total charges\n",
    "4. Demographic info about customers – gender, age range, and if they have partners and dependents"
   ]
  },
  {
   "cell_type": "markdown",
   "id": "61541b99",
   "metadata": {
    "id": "61541b99"
   },
   "source": [
    "### 1. LOAD LIBRARIES"
   ]
  },
  {
   "cell_type": "code",
   "execution_count": 1,
   "id": "cdebd077",
   "metadata": {
    "id": "cdebd077"
   },
   "outputs": [],
   "source": [
    "import warnings\n",
    "import numpy as np\n",
    "import pandas as pd\n",
    "import seaborn as sns\n",
    "import matplotlib.pyplot as plt\n",
    "from mlxtend import plotting\n",
    "\n",
    "warnings.filterwarnings('ignore')\n",
    "pd.options.display.max_columns = None"
   ]
  },
  {
   "cell_type": "markdown",
   "id": "56f19224",
   "metadata": {
    "id": "56f19224"
   },
   "source": [
    "### 2. LOAD DATA"
   ]
  },
  {
   "cell_type": "code",
   "execution_count": 2,
   "id": "b78284a9",
   "metadata": {
    "colab": {
     "base_uri": "https://localhost:8080/",
     "height": 375
    },
    "id": "b78284a9",
    "outputId": "dcd4ea70-d312-4238-9ca5-82eee255df8d"
   },
   "outputs": [
    {
     "name": "stdout",
     "output_type": "stream",
     "text": [
      "Data Shape : (7043, 21)\n"
     ]
    },
    {
     "data": {
      "text/html": [
       "<div>\n",
       "<style scoped>\n",
       "    .dataframe tbody tr th:only-of-type {\n",
       "        vertical-align: middle;\n",
       "    }\n",
       "\n",
       "    .dataframe tbody tr th {\n",
       "        vertical-align: top;\n",
       "    }\n",
       "\n",
       "    .dataframe thead th {\n",
       "        text-align: right;\n",
       "    }\n",
       "</style>\n",
       "<table border=\"1\" class=\"dataframe\">\n",
       "  <thead>\n",
       "    <tr style=\"text-align: right;\">\n",
       "      <th></th>\n",
       "      <th>customerID</th>\n",
       "      <th>gender</th>\n",
       "      <th>SeniorCitizen</th>\n",
       "      <th>Partner</th>\n",
       "      <th>Dependents</th>\n",
       "      <th>tenure</th>\n",
       "      <th>PhoneService</th>\n",
       "      <th>MultipleLines</th>\n",
       "      <th>InternetService</th>\n",
       "      <th>OnlineSecurity</th>\n",
       "      <th>OnlineBackup</th>\n",
       "      <th>DeviceProtection</th>\n",
       "      <th>TechSupport</th>\n",
       "      <th>StreamingTV</th>\n",
       "      <th>StreamingMovies</th>\n",
       "      <th>Contract</th>\n",
       "      <th>PaperlessBilling</th>\n",
       "      <th>PaymentMethod</th>\n",
       "      <th>MonthlyCharges</th>\n",
       "      <th>TotalCharges</th>\n",
       "      <th>Churn</th>\n",
       "    </tr>\n",
       "  </thead>\n",
       "  <tbody>\n",
       "    <tr>\n",
       "      <th>0</th>\n",
       "      <td>7590-VHVEG</td>\n",
       "      <td>Female</td>\n",
       "      <td>0</td>\n",
       "      <td>Yes</td>\n",
       "      <td>No</td>\n",
       "      <td>1</td>\n",
       "      <td>No</td>\n",
       "      <td>No phone service</td>\n",
       "      <td>DSL</td>\n",
       "      <td>No</td>\n",
       "      <td>Yes</td>\n",
       "      <td>No</td>\n",
       "      <td>No</td>\n",
       "      <td>No</td>\n",
       "      <td>No</td>\n",
       "      <td>Month-to-month</td>\n",
       "      <td>Yes</td>\n",
       "      <td>Electronic check</td>\n",
       "      <td>29.85</td>\n",
       "      <td>29.85</td>\n",
       "      <td>No</td>\n",
       "    </tr>\n",
       "    <tr>\n",
       "      <th>1</th>\n",
       "      <td>5575-GNVDE</td>\n",
       "      <td>Male</td>\n",
       "      <td>0</td>\n",
       "      <td>No</td>\n",
       "      <td>No</td>\n",
       "      <td>34</td>\n",
       "      <td>Yes</td>\n",
       "      <td>No</td>\n",
       "      <td>DSL</td>\n",
       "      <td>Yes</td>\n",
       "      <td>No</td>\n",
       "      <td>Yes</td>\n",
       "      <td>No</td>\n",
       "      <td>No</td>\n",
       "      <td>No</td>\n",
       "      <td>One year</td>\n",
       "      <td>No</td>\n",
       "      <td>Mailed check</td>\n",
       "      <td>56.95</td>\n",
       "      <td>1889.5</td>\n",
       "      <td>No</td>\n",
       "    </tr>\n",
       "    <tr>\n",
       "      <th>2</th>\n",
       "      <td>3668-QPYBK</td>\n",
       "      <td>Male</td>\n",
       "      <td>0</td>\n",
       "      <td>No</td>\n",
       "      <td>No</td>\n",
       "      <td>2</td>\n",
       "      <td>Yes</td>\n",
       "      <td>No</td>\n",
       "      <td>DSL</td>\n",
       "      <td>Yes</td>\n",
       "      <td>Yes</td>\n",
       "      <td>No</td>\n",
       "      <td>No</td>\n",
       "      <td>No</td>\n",
       "      <td>No</td>\n",
       "      <td>Month-to-month</td>\n",
       "      <td>Yes</td>\n",
       "      <td>Mailed check</td>\n",
       "      <td>53.85</td>\n",
       "      <td>108.15</td>\n",
       "      <td>Yes</td>\n",
       "    </tr>\n",
       "    <tr>\n",
       "      <th>3</th>\n",
       "      <td>7795-CFOCW</td>\n",
       "      <td>Male</td>\n",
       "      <td>0</td>\n",
       "      <td>No</td>\n",
       "      <td>No</td>\n",
       "      <td>45</td>\n",
       "      <td>No</td>\n",
       "      <td>No phone service</td>\n",
       "      <td>DSL</td>\n",
       "      <td>Yes</td>\n",
       "      <td>No</td>\n",
       "      <td>Yes</td>\n",
       "      <td>Yes</td>\n",
       "      <td>No</td>\n",
       "      <td>No</td>\n",
       "      <td>One year</td>\n",
       "      <td>No</td>\n",
       "      <td>Bank transfer (automatic)</td>\n",
       "      <td>42.30</td>\n",
       "      <td>1840.75</td>\n",
       "      <td>No</td>\n",
       "    </tr>\n",
       "    <tr>\n",
       "      <th>4</th>\n",
       "      <td>9237-HQITU</td>\n",
       "      <td>Female</td>\n",
       "      <td>0</td>\n",
       "      <td>No</td>\n",
       "      <td>No</td>\n",
       "      <td>2</td>\n",
       "      <td>Yes</td>\n",
       "      <td>No</td>\n",
       "      <td>Fiber optic</td>\n",
       "      <td>No</td>\n",
       "      <td>No</td>\n",
       "      <td>No</td>\n",
       "      <td>No</td>\n",
       "      <td>No</td>\n",
       "      <td>No</td>\n",
       "      <td>Month-to-month</td>\n",
       "      <td>Yes</td>\n",
       "      <td>Electronic check</td>\n",
       "      <td>70.70</td>\n",
       "      <td>151.65</td>\n",
       "      <td>Yes</td>\n",
       "    </tr>\n",
       "  </tbody>\n",
       "</table>\n",
       "</div>"
      ],
      "text/plain": [
       "   customerID  gender  SeniorCitizen Partner Dependents  tenure PhoneService  \\\n",
       "0  7590-VHVEG  Female              0     Yes         No       1           No   \n",
       "1  5575-GNVDE    Male              0      No         No      34          Yes   \n",
       "2  3668-QPYBK    Male              0      No         No       2          Yes   \n",
       "3  7795-CFOCW    Male              0      No         No      45           No   \n",
       "4  9237-HQITU  Female              0      No         No       2          Yes   \n",
       "\n",
       "      MultipleLines InternetService OnlineSecurity OnlineBackup  \\\n",
       "0  No phone service             DSL             No          Yes   \n",
       "1                No             DSL            Yes           No   \n",
       "2                No             DSL            Yes          Yes   \n",
       "3  No phone service             DSL            Yes           No   \n",
       "4                No     Fiber optic             No           No   \n",
       "\n",
       "  DeviceProtection TechSupport StreamingTV StreamingMovies        Contract  \\\n",
       "0               No          No          No              No  Month-to-month   \n",
       "1              Yes          No          No              No        One year   \n",
       "2               No          No          No              No  Month-to-month   \n",
       "3              Yes         Yes          No              No        One year   \n",
       "4               No          No          No              No  Month-to-month   \n",
       "\n",
       "  PaperlessBilling              PaymentMethod  MonthlyCharges TotalCharges  \\\n",
       "0              Yes           Electronic check           29.85        29.85   \n",
       "1               No               Mailed check           56.95       1889.5   \n",
       "2              Yes               Mailed check           53.85       108.15   \n",
       "3               No  Bank transfer (automatic)           42.30      1840.75   \n",
       "4              Yes           Electronic check           70.70       151.65   \n",
       "\n",
       "  Churn  \n",
       "0    No  \n",
       "1    No  \n",
       "2   Yes  \n",
       "3    No  \n",
       "4   Yes  "
      ]
     },
     "execution_count": 2,
     "metadata": {},
     "output_type": "execute_result"
    }
   ],
   "source": [
    "# Load data\n",
    "data = pd.read_csv('https://raw.githubusercontent.com/SravaniRVS/DATA-606/main/Telco-Customer-Churn.csv') \n",
    "\n",
    "print(f\"Data Shape : {data.shape}\") # Get shape\n",
    "\n",
    "data.head() # Top 5 rows"
   ]
  },
  {
   "cell_type": "markdown",
   "id": "d8bbfd15",
   "metadata": {
    "id": "d8bbfd15"
   },
   "source": [
    "### 3. DATA CLEANING"
   ]
  },
  {
   "cell_type": "markdown",
   "id": "f6765ec9",
   "metadata": {
    "id": "f6765ec9"
   },
   "source": [
    "#### 3.1 DATATYPE CHECK AND CONVERSION"
   ]
  },
  {
   "cell_type": "code",
   "execution_count": 3,
   "id": "d1f7da31",
   "metadata": {
    "colab": {
     "base_uri": "https://localhost:8080/"
    },
    "id": "d1f7da31",
    "outputId": "a96a5a84-7113-44e0-dc6a-5284e69e2aac"
   },
   "outputs": [
    {
     "name": "stdout",
     "output_type": "stream",
     "text": [
      "<class 'pandas.core.frame.DataFrame'>\n",
      "RangeIndex: 7043 entries, 0 to 7042\n",
      "Data columns (total 21 columns):\n",
      " #   Column            Non-Null Count  Dtype  \n",
      "---  ------            --------------  -----  \n",
      " 0   customerID        7043 non-null   object \n",
      " 1   gender            7043 non-null   object \n",
      " 2   SeniorCitizen     7043 non-null   int64  \n",
      " 3   Partner           7043 non-null   object \n",
      " 4   Dependents        7043 non-null   object \n",
      " 5   tenure            7043 non-null   int64  \n",
      " 6   PhoneService      7043 non-null   object \n",
      " 7   MultipleLines     7043 non-null   object \n",
      " 8   InternetService   7043 non-null   object \n",
      " 9   OnlineSecurity    7043 non-null   object \n",
      " 10  OnlineBackup      7043 non-null   object \n",
      " 11  DeviceProtection  7043 non-null   object \n",
      " 12  TechSupport       7043 non-null   object \n",
      " 13  StreamingTV       7043 non-null   object \n",
      " 14  StreamingMovies   7043 non-null   object \n",
      " 15  Contract          7043 non-null   object \n",
      " 16  PaperlessBilling  7043 non-null   object \n",
      " 17  PaymentMethod     7043 non-null   object \n",
      " 18  MonthlyCharges    7043 non-null   float64\n",
      " 19  TotalCharges      7043 non-null   object \n",
      " 20  Churn             7043 non-null   object \n",
      "dtypes: float64(1), int64(2), object(18)\n",
      "memory usage: 1.1+ MB\n"
     ]
    }
   ],
   "source": [
    "data.info()"
   ]
  },
  {
   "cell_type": "code",
   "execution_count": 4,
   "id": "3325c28c",
   "metadata": {
    "colab": {
     "base_uri": "https://localhost:8080/"
    },
    "id": "3325c28c",
    "outputId": "b0282b63-88fc-45f0-d2e0-b536911efc37"
   },
   "outputs": [
    {
     "name": "stdout",
     "output_type": "stream",
     "text": [
      "[' ', '100.2', '100.25', '100.35', '100.4']\n"
     ]
    }
   ],
   "source": [
    "# the TotalCharges column is present as object, whereas it should be in float\n",
    "print(sorted(data['TotalCharges'].unique())[0:5])"
   ]
  },
  {
   "cell_type": "code",
   "execution_count": 5,
   "id": "123b85d5",
   "metadata": {
    "id": "123b85d5"
   },
   "outputs": [],
   "source": [
    "## it has a value present as ' ', which can be count as null\n",
    "## replacing ' ' to np.nan\n",
    "data['TotalCharges'] = data['TotalCharges'].replace(' ', np.nan)"
   ]
  },
  {
   "cell_type": "code",
   "execution_count": 6,
   "id": "522d681e",
   "metadata": {
    "id": "522d681e"
   },
   "outputs": [],
   "source": [
    "## convert TotalCharges into float\n",
    "data['TotalCharges'] = data['TotalCharges'].astype(float)"
   ]
  },
  {
   "cell_type": "code",
   "execution_count": 7,
   "id": "0fd78c77",
   "metadata": {
    "id": "0fd78c77"
   },
   "outputs": [],
   "source": [
    "# convert Churn column into binary output\n",
    "data['Churn_binary'] = data['Churn'].map({'No': 0, \"Yes\" : 1})"
   ]
  },
  {
   "cell_type": "code",
   "execution_count": 8,
   "id": "517ba24f",
   "metadata": {
    "colab": {
     "base_uri": "https://localhost:8080/"
    },
    "id": "517ba24f",
    "outputId": "0ca9449a-2a32-42b6-ab3a-82661bb39415"
   },
   "outputs": [
    {
     "data": {
      "text/plain": [
       "customerID           object\n",
       "gender               object\n",
       "SeniorCitizen         int64\n",
       "Partner              object\n",
       "Dependents           object\n",
       "tenure                int64\n",
       "PhoneService         object\n",
       "MultipleLines        object\n",
       "InternetService      object\n",
       "OnlineSecurity       object\n",
       "OnlineBackup         object\n",
       "DeviceProtection     object\n",
       "TechSupport          object\n",
       "StreamingTV          object\n",
       "StreamingMovies      object\n",
       "Contract             object\n",
       "PaperlessBilling     object\n",
       "PaymentMethod        object\n",
       "MonthlyCharges      float64\n",
       "TotalCharges        float64\n",
       "Churn                object\n",
       "Churn_binary          int64\n",
       "dtype: object"
      ]
     },
     "execution_count": 8,
     "metadata": {},
     "output_type": "execute_result"
    }
   ],
   "source": [
    "data.dtypes"
   ]
  },
  {
   "cell_type": "markdown",
   "id": "0fc8c038",
   "metadata": {
    "id": "0fc8c038"
   },
   "source": [
    "#### 3.2 NULL VALUE ANALYSIS"
   ]
  },
  {
   "cell_type": "code",
   "execution_count": 9,
   "id": "1c7a1f7f",
   "metadata": {
    "colab": {
     "base_uri": "https://localhost:8080/"
    },
    "id": "1c7a1f7f",
    "outputId": "e1bb731a-a2e6-4b76-afb6-8b157a17217c"
   },
   "outputs": [
    {
     "data": {
      "text/plain": [
       "customerID           0\n",
       "gender               0\n",
       "SeniorCitizen        0\n",
       "Partner              0\n",
       "Dependents           0\n",
       "tenure               0\n",
       "PhoneService         0\n",
       "MultipleLines        0\n",
       "InternetService      0\n",
       "OnlineSecurity       0\n",
       "OnlineBackup         0\n",
       "DeviceProtection     0\n",
       "TechSupport          0\n",
       "StreamingTV          0\n",
       "StreamingMovies      0\n",
       "Contract             0\n",
       "PaperlessBilling     0\n",
       "PaymentMethod        0\n",
       "MonthlyCharges       0\n",
       "TotalCharges        11\n",
       "Churn                0\n",
       "Churn_binary         0\n",
       "dtype: int64"
      ]
     },
     "execution_count": 9,
     "metadata": {},
     "output_type": "execute_result"
    }
   ],
   "source": [
    "data.isnull().sum() ## check for null values"
   ]
  },
  {
   "cell_type": "code",
   "execution_count": 10,
   "id": "5a9ba2a8",
   "metadata": {},
   "outputs": [
    {
     "data": {
      "text/html": [
       "<div>\n",
       "<style scoped>\n",
       "    .dataframe tbody tr th:only-of-type {\n",
       "        vertical-align: middle;\n",
       "    }\n",
       "\n",
       "    .dataframe tbody tr th {\n",
       "        vertical-align: top;\n",
       "    }\n",
       "\n",
       "    .dataframe thead th {\n",
       "        text-align: right;\n",
       "    }\n",
       "</style>\n",
       "<table border=\"1\" class=\"dataframe\">\n",
       "  <thead>\n",
       "    <tr style=\"text-align: right;\">\n",
       "      <th></th>\n",
       "      <th>customerID</th>\n",
       "      <th>gender</th>\n",
       "      <th>SeniorCitizen</th>\n",
       "      <th>Partner</th>\n",
       "      <th>Dependents</th>\n",
       "      <th>tenure</th>\n",
       "      <th>PhoneService</th>\n",
       "      <th>MultipleLines</th>\n",
       "      <th>InternetService</th>\n",
       "      <th>OnlineSecurity</th>\n",
       "      <th>OnlineBackup</th>\n",
       "      <th>DeviceProtection</th>\n",
       "      <th>TechSupport</th>\n",
       "      <th>StreamingTV</th>\n",
       "      <th>StreamingMovies</th>\n",
       "      <th>Contract</th>\n",
       "      <th>PaperlessBilling</th>\n",
       "      <th>PaymentMethod</th>\n",
       "      <th>MonthlyCharges</th>\n",
       "      <th>TotalCharges</th>\n",
       "      <th>Churn</th>\n",
       "      <th>Churn_binary</th>\n",
       "    </tr>\n",
       "  </thead>\n",
       "  <tbody>\n",
       "    <tr>\n",
       "      <th>488</th>\n",
       "      <td>4472-LVYGI</td>\n",
       "      <td>Female</td>\n",
       "      <td>0</td>\n",
       "      <td>Yes</td>\n",
       "      <td>Yes</td>\n",
       "      <td>0</td>\n",
       "      <td>No</td>\n",
       "      <td>No phone service</td>\n",
       "      <td>DSL</td>\n",
       "      <td>Yes</td>\n",
       "      <td>No</td>\n",
       "      <td>Yes</td>\n",
       "      <td>Yes</td>\n",
       "      <td>Yes</td>\n",
       "      <td>No</td>\n",
       "      <td>Two year</td>\n",
       "      <td>Yes</td>\n",
       "      <td>Bank transfer (automatic)</td>\n",
       "      <td>52.55</td>\n",
       "      <td>NaN</td>\n",
       "      <td>No</td>\n",
       "      <td>0</td>\n",
       "    </tr>\n",
       "    <tr>\n",
       "      <th>753</th>\n",
       "      <td>3115-CZMZD</td>\n",
       "      <td>Male</td>\n",
       "      <td>0</td>\n",
       "      <td>No</td>\n",
       "      <td>Yes</td>\n",
       "      <td>0</td>\n",
       "      <td>Yes</td>\n",
       "      <td>No</td>\n",
       "      <td>No</td>\n",
       "      <td>No internet service</td>\n",
       "      <td>No internet service</td>\n",
       "      <td>No internet service</td>\n",
       "      <td>No internet service</td>\n",
       "      <td>No internet service</td>\n",
       "      <td>No internet service</td>\n",
       "      <td>Two year</td>\n",
       "      <td>No</td>\n",
       "      <td>Mailed check</td>\n",
       "      <td>20.25</td>\n",
       "      <td>NaN</td>\n",
       "      <td>No</td>\n",
       "      <td>0</td>\n",
       "    </tr>\n",
       "    <tr>\n",
       "      <th>936</th>\n",
       "      <td>5709-LVOEQ</td>\n",
       "      <td>Female</td>\n",
       "      <td>0</td>\n",
       "      <td>Yes</td>\n",
       "      <td>Yes</td>\n",
       "      <td>0</td>\n",
       "      <td>Yes</td>\n",
       "      <td>No</td>\n",
       "      <td>DSL</td>\n",
       "      <td>Yes</td>\n",
       "      <td>Yes</td>\n",
       "      <td>Yes</td>\n",
       "      <td>No</td>\n",
       "      <td>Yes</td>\n",
       "      <td>Yes</td>\n",
       "      <td>Two year</td>\n",
       "      <td>No</td>\n",
       "      <td>Mailed check</td>\n",
       "      <td>80.85</td>\n",
       "      <td>NaN</td>\n",
       "      <td>No</td>\n",
       "      <td>0</td>\n",
       "    </tr>\n",
       "    <tr>\n",
       "      <th>1082</th>\n",
       "      <td>4367-NUYAO</td>\n",
       "      <td>Male</td>\n",
       "      <td>0</td>\n",
       "      <td>Yes</td>\n",
       "      <td>Yes</td>\n",
       "      <td>0</td>\n",
       "      <td>Yes</td>\n",
       "      <td>Yes</td>\n",
       "      <td>No</td>\n",
       "      <td>No internet service</td>\n",
       "      <td>No internet service</td>\n",
       "      <td>No internet service</td>\n",
       "      <td>No internet service</td>\n",
       "      <td>No internet service</td>\n",
       "      <td>No internet service</td>\n",
       "      <td>Two year</td>\n",
       "      <td>No</td>\n",
       "      <td>Mailed check</td>\n",
       "      <td>25.75</td>\n",
       "      <td>NaN</td>\n",
       "      <td>No</td>\n",
       "      <td>0</td>\n",
       "    </tr>\n",
       "    <tr>\n",
       "      <th>1340</th>\n",
       "      <td>1371-DWPAZ</td>\n",
       "      <td>Female</td>\n",
       "      <td>0</td>\n",
       "      <td>Yes</td>\n",
       "      <td>Yes</td>\n",
       "      <td>0</td>\n",
       "      <td>No</td>\n",
       "      <td>No phone service</td>\n",
       "      <td>DSL</td>\n",
       "      <td>Yes</td>\n",
       "      <td>Yes</td>\n",
       "      <td>Yes</td>\n",
       "      <td>Yes</td>\n",
       "      <td>Yes</td>\n",
       "      <td>No</td>\n",
       "      <td>Two year</td>\n",
       "      <td>No</td>\n",
       "      <td>Credit card (automatic)</td>\n",
       "      <td>56.05</td>\n",
       "      <td>NaN</td>\n",
       "      <td>No</td>\n",
       "      <td>0</td>\n",
       "    </tr>\n",
       "    <tr>\n",
       "      <th>3331</th>\n",
       "      <td>7644-OMVMY</td>\n",
       "      <td>Male</td>\n",
       "      <td>0</td>\n",
       "      <td>Yes</td>\n",
       "      <td>Yes</td>\n",
       "      <td>0</td>\n",
       "      <td>Yes</td>\n",
       "      <td>No</td>\n",
       "      <td>No</td>\n",
       "      <td>No internet service</td>\n",
       "      <td>No internet service</td>\n",
       "      <td>No internet service</td>\n",
       "      <td>No internet service</td>\n",
       "      <td>No internet service</td>\n",
       "      <td>No internet service</td>\n",
       "      <td>Two year</td>\n",
       "      <td>No</td>\n",
       "      <td>Mailed check</td>\n",
       "      <td>19.85</td>\n",
       "      <td>NaN</td>\n",
       "      <td>No</td>\n",
       "      <td>0</td>\n",
       "    </tr>\n",
       "    <tr>\n",
       "      <th>3826</th>\n",
       "      <td>3213-VVOLG</td>\n",
       "      <td>Male</td>\n",
       "      <td>0</td>\n",
       "      <td>Yes</td>\n",
       "      <td>Yes</td>\n",
       "      <td>0</td>\n",
       "      <td>Yes</td>\n",
       "      <td>Yes</td>\n",
       "      <td>No</td>\n",
       "      <td>No internet service</td>\n",
       "      <td>No internet service</td>\n",
       "      <td>No internet service</td>\n",
       "      <td>No internet service</td>\n",
       "      <td>No internet service</td>\n",
       "      <td>No internet service</td>\n",
       "      <td>Two year</td>\n",
       "      <td>No</td>\n",
       "      <td>Mailed check</td>\n",
       "      <td>25.35</td>\n",
       "      <td>NaN</td>\n",
       "      <td>No</td>\n",
       "      <td>0</td>\n",
       "    </tr>\n",
       "    <tr>\n",
       "      <th>4380</th>\n",
       "      <td>2520-SGTTA</td>\n",
       "      <td>Female</td>\n",
       "      <td>0</td>\n",
       "      <td>Yes</td>\n",
       "      <td>Yes</td>\n",
       "      <td>0</td>\n",
       "      <td>Yes</td>\n",
       "      <td>No</td>\n",
       "      <td>No</td>\n",
       "      <td>No internet service</td>\n",
       "      <td>No internet service</td>\n",
       "      <td>No internet service</td>\n",
       "      <td>No internet service</td>\n",
       "      <td>No internet service</td>\n",
       "      <td>No internet service</td>\n",
       "      <td>Two year</td>\n",
       "      <td>No</td>\n",
       "      <td>Mailed check</td>\n",
       "      <td>20.00</td>\n",
       "      <td>NaN</td>\n",
       "      <td>No</td>\n",
       "      <td>0</td>\n",
       "    </tr>\n",
       "    <tr>\n",
       "      <th>5218</th>\n",
       "      <td>2923-ARZLG</td>\n",
       "      <td>Male</td>\n",
       "      <td>0</td>\n",
       "      <td>Yes</td>\n",
       "      <td>Yes</td>\n",
       "      <td>0</td>\n",
       "      <td>Yes</td>\n",
       "      <td>No</td>\n",
       "      <td>No</td>\n",
       "      <td>No internet service</td>\n",
       "      <td>No internet service</td>\n",
       "      <td>No internet service</td>\n",
       "      <td>No internet service</td>\n",
       "      <td>No internet service</td>\n",
       "      <td>No internet service</td>\n",
       "      <td>One year</td>\n",
       "      <td>Yes</td>\n",
       "      <td>Mailed check</td>\n",
       "      <td>19.70</td>\n",
       "      <td>NaN</td>\n",
       "      <td>No</td>\n",
       "      <td>0</td>\n",
       "    </tr>\n",
       "    <tr>\n",
       "      <th>6670</th>\n",
       "      <td>4075-WKNIU</td>\n",
       "      <td>Female</td>\n",
       "      <td>0</td>\n",
       "      <td>Yes</td>\n",
       "      <td>Yes</td>\n",
       "      <td>0</td>\n",
       "      <td>Yes</td>\n",
       "      <td>Yes</td>\n",
       "      <td>DSL</td>\n",
       "      <td>No</td>\n",
       "      <td>Yes</td>\n",
       "      <td>Yes</td>\n",
       "      <td>Yes</td>\n",
       "      <td>Yes</td>\n",
       "      <td>No</td>\n",
       "      <td>Two year</td>\n",
       "      <td>No</td>\n",
       "      <td>Mailed check</td>\n",
       "      <td>73.35</td>\n",
       "      <td>NaN</td>\n",
       "      <td>No</td>\n",
       "      <td>0</td>\n",
       "    </tr>\n",
       "    <tr>\n",
       "      <th>6754</th>\n",
       "      <td>2775-SEFEE</td>\n",
       "      <td>Male</td>\n",
       "      <td>0</td>\n",
       "      <td>No</td>\n",
       "      <td>Yes</td>\n",
       "      <td>0</td>\n",
       "      <td>Yes</td>\n",
       "      <td>Yes</td>\n",
       "      <td>DSL</td>\n",
       "      <td>Yes</td>\n",
       "      <td>Yes</td>\n",
       "      <td>No</td>\n",
       "      <td>Yes</td>\n",
       "      <td>No</td>\n",
       "      <td>No</td>\n",
       "      <td>Two year</td>\n",
       "      <td>Yes</td>\n",
       "      <td>Bank transfer (automatic)</td>\n",
       "      <td>61.90</td>\n",
       "      <td>NaN</td>\n",
       "      <td>No</td>\n",
       "      <td>0</td>\n",
       "    </tr>\n",
       "  </tbody>\n",
       "</table>\n",
       "</div>"
      ],
      "text/plain": [
       "      customerID  gender  SeniorCitizen Partner Dependents  tenure  \\\n",
       "488   4472-LVYGI  Female              0     Yes        Yes       0   \n",
       "753   3115-CZMZD    Male              0      No        Yes       0   \n",
       "936   5709-LVOEQ  Female              0     Yes        Yes       0   \n",
       "1082  4367-NUYAO    Male              0     Yes        Yes       0   \n",
       "1340  1371-DWPAZ  Female              0     Yes        Yes       0   \n",
       "3331  7644-OMVMY    Male              0     Yes        Yes       0   \n",
       "3826  3213-VVOLG    Male              0     Yes        Yes       0   \n",
       "4380  2520-SGTTA  Female              0     Yes        Yes       0   \n",
       "5218  2923-ARZLG    Male              0     Yes        Yes       0   \n",
       "6670  4075-WKNIU  Female              0     Yes        Yes       0   \n",
       "6754  2775-SEFEE    Male              0      No        Yes       0   \n",
       "\n",
       "     PhoneService     MultipleLines InternetService       OnlineSecurity  \\\n",
       "488            No  No phone service             DSL                  Yes   \n",
       "753           Yes                No              No  No internet service   \n",
       "936           Yes                No             DSL                  Yes   \n",
       "1082          Yes               Yes              No  No internet service   \n",
       "1340           No  No phone service             DSL                  Yes   \n",
       "3331          Yes                No              No  No internet service   \n",
       "3826          Yes               Yes              No  No internet service   \n",
       "4380          Yes                No              No  No internet service   \n",
       "5218          Yes                No              No  No internet service   \n",
       "6670          Yes               Yes             DSL                   No   \n",
       "6754          Yes               Yes             DSL                  Yes   \n",
       "\n",
       "             OnlineBackup     DeviceProtection          TechSupport  \\\n",
       "488                    No                  Yes                  Yes   \n",
       "753   No internet service  No internet service  No internet service   \n",
       "936                   Yes                  Yes                   No   \n",
       "1082  No internet service  No internet service  No internet service   \n",
       "1340                  Yes                  Yes                  Yes   \n",
       "3331  No internet service  No internet service  No internet service   \n",
       "3826  No internet service  No internet service  No internet service   \n",
       "4380  No internet service  No internet service  No internet service   \n",
       "5218  No internet service  No internet service  No internet service   \n",
       "6670                  Yes                  Yes                  Yes   \n",
       "6754                  Yes                   No                  Yes   \n",
       "\n",
       "              StreamingTV      StreamingMovies  Contract PaperlessBilling  \\\n",
       "488                   Yes                   No  Two year              Yes   \n",
       "753   No internet service  No internet service  Two year               No   \n",
       "936                   Yes                  Yes  Two year               No   \n",
       "1082  No internet service  No internet service  Two year               No   \n",
       "1340                  Yes                   No  Two year               No   \n",
       "3331  No internet service  No internet service  Two year               No   \n",
       "3826  No internet service  No internet service  Two year               No   \n",
       "4380  No internet service  No internet service  Two year               No   \n",
       "5218  No internet service  No internet service  One year              Yes   \n",
       "6670                  Yes                   No  Two year               No   \n",
       "6754                   No                   No  Two year              Yes   \n",
       "\n",
       "                  PaymentMethod  MonthlyCharges  TotalCharges Churn  \\\n",
       "488   Bank transfer (automatic)           52.55           NaN    No   \n",
       "753                Mailed check           20.25           NaN    No   \n",
       "936                Mailed check           80.85           NaN    No   \n",
       "1082               Mailed check           25.75           NaN    No   \n",
       "1340    Credit card (automatic)           56.05           NaN    No   \n",
       "3331               Mailed check           19.85           NaN    No   \n",
       "3826               Mailed check           25.35           NaN    No   \n",
       "4380               Mailed check           20.00           NaN    No   \n",
       "5218               Mailed check           19.70           NaN    No   \n",
       "6670               Mailed check           73.35           NaN    No   \n",
       "6754  Bank transfer (automatic)           61.90           NaN    No   \n",
       "\n",
       "      Churn_binary  \n",
       "488              0  \n",
       "753              0  \n",
       "936              0  \n",
       "1082             0  \n",
       "1340             0  \n",
       "3331             0  \n",
       "3826             0  \n",
       "4380             0  \n",
       "5218             0  \n",
       "6670             0  \n",
       "6754             0  "
      ]
     },
     "execution_count": 10,
     "metadata": {},
     "output_type": "execute_result"
    }
   ],
   "source": [
    "data[data['TotalCharges'].isnull()]"
   ]
  },
  {
   "cell_type": "code",
   "execution_count": 11,
   "id": "4d19101e",
   "metadata": {
    "colab": {
     "base_uri": "https://localhost:8080/"
    },
    "id": "4d19101e",
    "outputId": "9eaa7669-266d-4170-af32-5807fc259971"
   },
   "outputs": [
    {
     "name": "stdout",
     "output_type": "stream",
     "text": [
      "New Shape : (7032, 22)\n"
     ]
    }
   ],
   "source": [
    "## only TotalCharges has null values, count 11\n",
    "## as the percentage of null values are very less as compared to the total rows in dataset\n",
    "## we can remove these rows\n",
    "## as total charges might be an important column for customer churn, so as it is unknown\n",
    "## imputing might not be a good option\n",
    "\n",
    "data = data.dropna().reset_index(drop=True)\n",
    "print(f\"New Shape : {data.shape}\")"
   ]
  },
  {
   "cell_type": "markdown",
   "id": "5a87a331",
   "metadata": {
    "id": "5a87a331"
   },
   "source": [
    "#### 3.3 DATA DUPLICATION ANALYSIS"
   ]
  },
  {
   "cell_type": "code",
   "execution_count": 12,
   "id": "4b6038b4",
   "metadata": {
    "colab": {
     "base_uri": "https://localhost:8080/",
     "height": 113
    },
    "id": "4b6038b4",
    "outputId": "e54bef86-f3f0-4604-c2b5-8c4f7479fdbc"
   },
   "outputs": [
    {
     "data": {
      "text/html": [
       "<div>\n",
       "<style scoped>\n",
       "    .dataframe tbody tr th:only-of-type {\n",
       "        vertical-align: middle;\n",
       "    }\n",
       "\n",
       "    .dataframe tbody tr th {\n",
       "        vertical-align: top;\n",
       "    }\n",
       "\n",
       "    .dataframe thead th {\n",
       "        text-align: right;\n",
       "    }\n",
       "</style>\n",
       "<table border=\"1\" class=\"dataframe\">\n",
       "  <thead>\n",
       "    <tr style=\"text-align: right;\">\n",
       "      <th></th>\n",
       "      <th>customerID</th>\n",
       "      <th>gender</th>\n",
       "      <th>SeniorCitizen</th>\n",
       "      <th>Partner</th>\n",
       "      <th>Dependents</th>\n",
       "      <th>tenure</th>\n",
       "      <th>PhoneService</th>\n",
       "      <th>MultipleLines</th>\n",
       "      <th>InternetService</th>\n",
       "      <th>OnlineSecurity</th>\n",
       "      <th>OnlineBackup</th>\n",
       "      <th>DeviceProtection</th>\n",
       "      <th>TechSupport</th>\n",
       "      <th>StreamingTV</th>\n",
       "      <th>StreamingMovies</th>\n",
       "      <th>Contract</th>\n",
       "      <th>PaperlessBilling</th>\n",
       "      <th>PaymentMethod</th>\n",
       "      <th>MonthlyCharges</th>\n",
       "      <th>TotalCharges</th>\n",
       "      <th>Churn</th>\n",
       "      <th>Churn_binary</th>\n",
       "    </tr>\n",
       "  </thead>\n",
       "  <tbody>\n",
       "  </tbody>\n",
       "</table>\n",
       "</div>"
      ],
      "text/plain": [
       "Empty DataFrame\n",
       "Columns: [customerID, gender, SeniorCitizen, Partner, Dependents, tenure, PhoneService, MultipleLines, InternetService, OnlineSecurity, OnlineBackup, DeviceProtection, TechSupport, StreamingTV, StreamingMovies, Contract, PaperlessBilling, PaymentMethod, MonthlyCharges, TotalCharges, Churn, Churn_binary]\n",
       "Index: []"
      ]
     },
     "execution_count": 12,
     "metadata": {},
     "output_type": "execute_result"
    }
   ],
   "source": [
    "data[data.duplicated()] # no duplicate rows present in the dataset"
   ]
  },
  {
   "cell_type": "markdown",
   "id": "ef22c279",
   "metadata": {
    "id": "ef22c279"
   },
   "source": [
    "#### 3.4 PONTETIAL JUNK VALUE CHECK"
   ]
  },
  {
   "cell_type": "code",
   "execution_count": 13,
   "id": "9f017d2d",
   "metadata": {
    "colab": {
     "base_uri": "https://localhost:8080/",
     "height": 300
    },
    "id": "9f017d2d",
    "outputId": "3b91d7eb-8a53-480d-fa82-60325bbe3ca8"
   },
   "outputs": [
    {
     "data": {
      "text/html": [
       "<div>\n",
       "<style scoped>\n",
       "    .dataframe tbody tr th:only-of-type {\n",
       "        vertical-align: middle;\n",
       "    }\n",
       "\n",
       "    .dataframe tbody tr th {\n",
       "        vertical-align: top;\n",
       "    }\n",
       "\n",
       "    .dataframe thead th {\n",
       "        text-align: right;\n",
       "    }\n",
       "</style>\n",
       "<table border=\"1\" class=\"dataframe\">\n",
       "  <thead>\n",
       "    <tr style=\"text-align: right;\">\n",
       "      <th></th>\n",
       "      <th>SeniorCitizen</th>\n",
       "      <th>tenure</th>\n",
       "      <th>MonthlyCharges</th>\n",
       "      <th>TotalCharges</th>\n",
       "      <th>Churn_binary</th>\n",
       "    </tr>\n",
       "  </thead>\n",
       "  <tbody>\n",
       "    <tr>\n",
       "      <th>count</th>\n",
       "      <td>7032.000000</td>\n",
       "      <td>7032.000000</td>\n",
       "      <td>7032.000000</td>\n",
       "      <td>7032.000000</td>\n",
       "      <td>7032.000000</td>\n",
       "    </tr>\n",
       "    <tr>\n",
       "      <th>mean</th>\n",
       "      <td>0.162400</td>\n",
       "      <td>32.421786</td>\n",
       "      <td>64.798208</td>\n",
       "      <td>2283.300441</td>\n",
       "      <td>0.265785</td>\n",
       "    </tr>\n",
       "    <tr>\n",
       "      <th>std</th>\n",
       "      <td>0.368844</td>\n",
       "      <td>24.545260</td>\n",
       "      <td>30.085974</td>\n",
       "      <td>2266.771362</td>\n",
       "      <td>0.441782</td>\n",
       "    </tr>\n",
       "    <tr>\n",
       "      <th>min</th>\n",
       "      <td>0.000000</td>\n",
       "      <td>1.000000</td>\n",
       "      <td>18.250000</td>\n",
       "      <td>18.800000</td>\n",
       "      <td>0.000000</td>\n",
       "    </tr>\n",
       "    <tr>\n",
       "      <th>25%</th>\n",
       "      <td>0.000000</td>\n",
       "      <td>9.000000</td>\n",
       "      <td>35.587500</td>\n",
       "      <td>401.450000</td>\n",
       "      <td>0.000000</td>\n",
       "    </tr>\n",
       "    <tr>\n",
       "      <th>50%</th>\n",
       "      <td>0.000000</td>\n",
       "      <td>29.000000</td>\n",
       "      <td>70.350000</td>\n",
       "      <td>1397.475000</td>\n",
       "      <td>0.000000</td>\n",
       "    </tr>\n",
       "    <tr>\n",
       "      <th>75%</th>\n",
       "      <td>0.000000</td>\n",
       "      <td>55.000000</td>\n",
       "      <td>89.862500</td>\n",
       "      <td>3794.737500</td>\n",
       "      <td>1.000000</td>\n",
       "    </tr>\n",
       "    <tr>\n",
       "      <th>max</th>\n",
       "      <td>1.000000</td>\n",
       "      <td>72.000000</td>\n",
       "      <td>118.750000</td>\n",
       "      <td>8684.800000</td>\n",
       "      <td>1.000000</td>\n",
       "    </tr>\n",
       "  </tbody>\n",
       "</table>\n",
       "</div>"
      ],
      "text/plain": [
       "       SeniorCitizen       tenure  MonthlyCharges  TotalCharges  Churn_binary\n",
       "count    7032.000000  7032.000000     7032.000000   7032.000000   7032.000000\n",
       "mean        0.162400    32.421786       64.798208   2283.300441      0.265785\n",
       "std         0.368844    24.545260       30.085974   2266.771362      0.441782\n",
       "min         0.000000     1.000000       18.250000     18.800000      0.000000\n",
       "25%         0.000000     9.000000       35.587500    401.450000      0.000000\n",
       "50%         0.000000    29.000000       70.350000   1397.475000      0.000000\n",
       "75%         0.000000    55.000000       89.862500   3794.737500      1.000000\n",
       "max         1.000000    72.000000      118.750000   8684.800000      1.000000"
      ]
     },
     "execution_count": 13,
     "metadata": {},
     "output_type": "execute_result"
    }
   ],
   "source": [
    "data.describe() # no potential junk values can be seen"
   ]
  },
  {
   "cell_type": "markdown",
   "id": "b7b38331",
   "metadata": {
    "id": "b7b38331"
   },
   "source": [
    "### 4. CHURN ANALYSIS"
   ]
  },
  {
   "cell_type": "code",
   "execution_count": 14,
   "id": "c2ca7198",
   "metadata": {
    "colab": {
     "base_uri": "https://localhost:8080/",
     "height": 460
    },
    "id": "c2ca7198",
    "outputId": "457cc512-15c8-46b9-d6e4-526a981fb745"
   },
   "outputs": [
    {
     "data": {
      "image/png": "[encoded data removed]",
      "text/plain": [
       "<Figure size 504x504 with 1 Axes>"
      ]
     },
     "metadata": {},
     "output_type": "display_data"
    }
   ],
   "source": [
    "target = data['Churn'].value_counts().to_dict()\n",
    "plt.figure(figsize=(7,7))\n",
    "plt.pie(target.values(), labels = target.keys(), \n",
    "        wedgeprops={'edgecolor': 'black'}, \n",
    "        colors = ['#008fd5', '#fc4f30'], \n",
    "        autopct='%.0f%%', \n",
    "        shadow=True)\n",
    "plt.title('Output Label Analysis')\n",
    "plt.show()"
   ]
  },
  {
   "cell_type": "markdown",
   "id": "7362f18a",
   "metadata": {
    "id": "7362f18a"
   },
   "source": [
    "*The pie chart shows that the dataset is imbalanced, with 27% only of the data belongs to churn class.*"
   ]
  },
  {
   "cell_type": "markdown",
   "id": "6366518c",
   "metadata": {
    "id": "6366518c"
   },
   "source": [
    "### 5. HELPER FUNCTIONS"
   ]
  },
  {
   "cell_type": "code",
   "execution_count": 15,
   "id": "e1bf3393",
   "metadata": {
    "id": "e1bf3393"
   },
   "outputs": [],
   "source": [
    "def distibution_plot_v1(data, column_list, num_row, num_col, figsize = (15,5)):\n",
    "    fig = plt.figure(figsize=figsize)\n",
    "    for idx, column in enumerate(column_list):\n",
    "        plt.subplot(num_row, num_col, idx+1)\n",
    "        plot = sns.distplot(data[column])\n",
    "        plt.title(column)\n",
    "        plt.xlabel('')\n",
    "    plt.show()"
   ]
  },
  {
   "cell_type": "code",
   "execution_count": 16,
   "id": "49287cbb",
   "metadata": {
    "id": "49287cbb"
   },
   "outputs": [],
   "source": [
    "def distibution_plot_v2(data, column_list, target_column, target_labels, num_row, num_col,\n",
    "                        figsize = (15,5)):\n",
    "    fig = plt.figure(figsize=figsize)\n",
    "    for idx, column in enumerate(column_list):\n",
    "        plt.subplot(num_row, num_col, idx+1)\n",
    "        # Plot distribution plot for both labels present in the target\n",
    "        sns.distplot(data[data[target_column] == target_labels[0]][column])\n",
    "        sns.distplot(data[data[target_column] == target_labels[1]][column])\n",
    "        plt.title(column)\n",
    "        plt.legend(['No', 'Yes'])\n",
    "        plt.xlabel('')\n",
    "    plt.show()"
   ]
  },
  {
   "cell_type": "code",
   "execution_count": 17,
   "id": "059449d0",
   "metadata": {
    "id": "059449d0"
   },
   "outputs": [],
   "source": [
    "def box_plot(data, column_list, target_column, target_labels, num_row, num_col,\n",
    "                        figsize = (15,5)):\n",
    "    fig = plt.figure(figsize=figsize)\n",
    "    for idx, column in enumerate(column_list):\n",
    "        plt.subplot(num_row, num_col, idx+1)\n",
    "        # Plot distribution plot for both labels present in the target\n",
    "        sns.boxplot(x=target_column, y=column, data=data)\n",
    "        plt.title(column)\n",
    "        plt.legend(target_labels)\n",
    "        plt.xlabel('')\n",
    "    plt.show()"
   ]
  },
  {
   "cell_type": "markdown",
   "id": "493e737e",
   "metadata": {
    "id": "493e737e"
   },
   "source": [
    "### 6. EXPLORATORY DATA ANALYSIS"
   ]
  },
  {
   "cell_type": "markdown",
   "id": "d8d2fb8b",
   "metadata": {
    "id": "d8d2fb8b"
   },
   "source": [
    "#### 6.1 DISTRIBUTION PLOT ANALYSIS OF MONTHLY, AND TOTAL CHARGES"
   ]
  },
  {
   "cell_type": "code",
   "execution_count": 18,
   "id": "9e4d627b",
   "metadata": {
    "colab": {
     "base_uri": "https://localhost:8080/",
     "height": 303
    },
    "id": "9e4d627b",
    "outputId": "95867d57-c76f-4d22-b063-30b5701e2f1e"
   },
   "outputs": [
    {
     "data": {
      "image/png": "[encoded data removed]",
      "text/plain": [
       "<Figure size 936x288 with 2 Axes>"
      ]
     },
     "metadata": {
      "needs_background": "light"
     },
     "output_type": "display_data"
    }
   ],
   "source": [
    "charges_column_list = ['MonthlyCharges', 'TotalCharges']\n",
    "output_colmn_name = 'Churn_binary'\n",
    "output_labels = [0, 1]\n",
    "\n",
    "# Get distribution plot\n",
    "distibution_plot_v1(data, charges_column_list, num_row = 1, num_col = 2, figsize = (13,4))"
   ]
  },
  {
   "cell_type": "code",
   "execution_count": 19,
   "id": "caa92648",
   "metadata": {
    "colab": {
     "base_uri": "https://localhost:8080/"
    },
    "id": "caa92648",
    "outputId": "cdf79883-1bd7-40b8-aaef-d1cb3e2bea42"
   },
   "outputs": [
    {
     "name": "stdout",
     "output_type": "stream",
     "text": [
      "MonthlyCharges skewness: -0.2221\n",
      "TotalCharges skewness  :  0.9616\n"
     ]
    }
   ],
   "source": [
    "# Degree of skewness for charges columns\n",
    "monthly_skewness = data['MonthlyCharges'].skew()\n",
    "total_skewness = data['TotalCharges'].skew()\n",
    "\n",
    "print(f\"MonthlyCharges skewness: {monthly_skewness : .4f}\")\n",
    "print(f\"TotalCharges skewness  : {total_skewness : .4f}\", )"
   ]
  },
  {
   "cell_type": "markdown",
   "id": "daca94a4",
   "metadata": {
    "id": "daca94a4"
   },
   "source": [
    "*From distibution plots and skewness value we can determine, TotalCharges column is highly right-skewed, whereas MonthlyCharges is slightly left skewed.*"
   ]
  },
  {
   "cell_type": "code",
   "execution_count": 20,
   "id": "0fdb26ca",
   "metadata": {
    "colab": {
     "base_uri": "https://localhost:8080/",
     "height": 303
    },
    "id": "0fdb26ca",
    "outputId": "9c4f4528-8e0c-43fc-d294-525d3780a092"
   },
   "outputs": [
    {
     "data": {
      "image/png": "[encoded data removed]",
      "text/plain": [
       "<Figure size 936x288 with 2 Axes>"
      ]
     },
     "metadata": {
      "needs_background": "light"
     },
     "output_type": "display_data"
    }
   ],
   "source": [
    "distibution_plot_v2(data, charges_column_list, output_colmn_name, output_labels,\n",
    "                    num_row = 1, num_col = 2, figsize = (13,4))"
   ]
  },
  {
   "cell_type": "markdown",
   "id": "f369c405",
   "metadata": {
    "id": "f369c405"
   },
   "source": [
    "*Distribution plot of both charges column for churned customer and non-churned customers are almost overlapping for total charges whereas it is slightly different in case of monthly charges. Still they are not significantly different from each other.*"
   ]
  },
  {
   "cell_type": "markdown",
   "id": "2dbee583",
   "metadata": {
    "id": "2dbee583"
   },
   "source": [
    "#### 6.2 BOX PLOT ANALYSIS OF MONTHLY, AND TOTAL CHARGES"
   ]
  },
  {
   "cell_type": "code",
   "execution_count": 21,
   "id": "af1dc217",
   "metadata": {
    "colab": {
     "base_uri": "https://localhost:8080/",
     "height": 303
    },
    "id": "af1dc217",
    "outputId": "2d9d2a2c-47ae-440b-cc5e-4d958ebe1b79"
   },
   "outputs": [
    {
     "data": {
      "image/png": "[encoded data removed]",
      "text/plain": [
       "<Figure size 936x288 with 2 Axes>"
      ]
     },
     "metadata": {
      "needs_background": "light"
     },
     "output_type": "display_data"
    }
   ],
   "source": [
    "box_plot(data, charges_column_list, output_colmn_name, output_labels,num_row = 1, \n",
    "         num_col = 2, figsize = (13,4))"
   ]
  },
  {
   "cell_type": "markdown",
   "id": "9adcf48c",
   "metadata": {
    "id": "9adcf48c"
   },
   "source": [
    "*This plot shows the distribution of monthly charges for each value of the 'Churn' column (i.e., customers who churned vs. those who did not). We can see that customers who churned tend to have higher monthly charges, and have low total charges.*"
   ]
  },
  {
   "cell_type": "markdown",
   "id": "95bc40e4",
   "metadata": {
    "id": "95bc40e4"
   },
   "source": [
    "#### 6.3 BIVARIATE ANALYSIS: CONTRACT VS. CHURN"
   ]
  },
  {
   "cell_type": "code",
   "execution_count": 22,
   "id": "b51351f1",
   "metadata": {
    "colab": {
     "base_uri": "https://localhost:8080/",
     "height": 325
    },
    "id": "b51351f1",
    "outputId": "2d1bdb35-6fd4-4e95-8b74-64cba07c1546"
   },
   "outputs": [
    {
     "data": {
      "image/png": "[encoded data removed]",
      "text/plain": [
       "<Figure size 432x288 with 1 Axes>"
      ]
     },
     "metadata": {
      "needs_background": "light"
     },
     "output_type": "display_data"
    }
   ],
   "source": [
    "sns.countplot(x='Contract', hue='Churn', data=data, palette=['red', 'lightgreen'])\n",
    "plt.title('Churn by Contract Type')\n",
    "plt.show()"
   ]
  },
  {
   "cell_type": "markdown",
   "id": "a37a078c",
   "metadata": {
    "id": "a37a078c"
   },
   "source": [
    "*This plot shows the number of customers in each contract type for each value of the 'Churn' column. We can see that customers on month-to-month contracts are more likely to churn than those on longer-term contracts.*"
   ]
  },
  {
   "cell_type": "markdown",
   "id": "d7179927",
   "metadata": {
    "id": "d7179927"
   },
   "source": [
    "#### 6.4 MULTIVARIATE ANALYSIS: MONTHLYCHARGES VS. CHURN BY CONTRACT"
   ]
  },
  {
   "cell_type": "code",
   "execution_count": 23,
   "id": "cca034fa",
   "metadata": {
    "colab": {
     "base_uri": "https://localhost:8080/",
     "height": 382
    },
    "id": "cca034fa",
    "outputId": "3b9738df-54ae-447c-af88-bf8aed44a7a3"
   },
   "outputs": [
    {
     "data": {
      "image/png": "[encoded data removed]",
      "text/plain": [
       "<Figure size 476.75x360 with 1 Axes>"
      ]
     },
     "metadata": {
      "needs_background": "light"
     },
     "output_type": "display_data"
    }
   ],
   "source": [
    "sns.lmplot(x='MonthlyCharges', y='Churn_binary', hue='Contract', data=data, logistic=True)\n",
    "plt.title('Monthly Charges and Churn by Contract Type')\n",
    "plt.show()"
   ]
  },
  {
   "cell_type": "markdown",
   "id": "126eed5e",
   "metadata": {
    "id": "126eed5e"
   },
   "source": [
    "*This plot shows the relationship between monthly charges, churn, and contract type. The logistic regression lines show the probability of churn based on monthly charges for each contract type. We can see that the relationship between monthly charges and churn differs for customers on different types of contracts.*\n",
    "\n",
    "*It shows with increase in monthly charges for month to month contract has a linear relationship with the churn probability. As we have already seen high monthly charges are the reason of most of the churn customer. But If we combine high monthly charge with month-to-month contract the probability of churn gets high.*"
   ]
  },
  {
   "cell_type": "markdown",
   "id": "fa27f681",
   "metadata": {
    "id": "fa27f681"
   },
   "source": [
    "#### 6.5 'MULTIVARIATE ANALYSIS: MONTHLYCHARGES VS. CHURN BY INTERNETSERVICE AND TECHSUPPORT'"
   ]
  },
  {
   "cell_type": "code",
   "execution_count": 24,
   "id": "18a3f71d",
   "metadata": {
    "colab": {
     "base_uri": "https://localhost:8080/",
     "height": 369
    },
    "id": "18a3f71d",
    "outputId": "5d59fe09-bff2-4b6e-a666-1b13d4ea821c"
   },
   "outputs": [
    {
     "data": {
      "image/png": "[encoded data removed]",
      "text/plain": [
       "<Figure size 1168x360 with 3 Axes>"
      ]
     },
     "metadata": {
      "needs_background": "light"
     },
     "output_type": "display_data"
    }
   ],
   "source": [
    "sns.lmplot(x='MonthlyCharges', y='Churn_binary', hue='InternetService', col='TechSupport',\n",
    "           data=data, logistic=True)\n",
    "plt.subplots_adjust(top=0.85)\n",
    "plt.suptitle('Monthly Charges and Churn by Internet Service and Tech Support')\n",
    "plt.show()"
   ]
  },
  {
   "cell_type": "markdown",
   "id": "b181aaff",
   "metadata": {
    "id": "b181aaff"
   },
   "source": [
    "*This plot shows the relationship between monthly charges, churn, internet service, and tech support. The logistic regression lines show the probability of churn based on monthly charges for each combination of internet service and tech support. We can see that the relationship between monthly charges and churn differs for customers with different types of internet service and tech support.*"
   ]
  },
  {
   "cell_type": "markdown",
   "id": "39482623",
   "metadata": {
    "id": "39482623"
   },
   "source": [
    "#### 6.6 CHURN ANALYSIS BASED ON CUSTOMER DEMOGRAPHICS"
   ]
  },
  {
   "cell_type": "code",
   "execution_count": 25,
   "id": "6e1dea2d",
   "metadata": {
    "colab": {
     "base_uri": "https://localhost:8080/"
    },
    "id": "6e1dea2d",
    "outputId": "5981ddb3-43a4-4926-d7e9-558557bf521e"
   },
   "outputs": [
    {
     "name": "stdout",
     "output_type": "stream",
     "text": [
      "Churn Rate:\n"
     ]
    },
    {
     "data": {
      "text/plain": [
       "No     73.421502\n",
       "Yes    26.578498\n",
       "Name: Churn, dtype: float64"
      ]
     },
     "execution_count": 25,
     "metadata": {},
     "output_type": "execute_result"
    }
   ],
   "source": [
    "# Analyze the churn rate\n",
    "churn_rate = data[\"Churn\"].value_counts(normalize=True) * 100\n",
    "print(\"Churn Rate:\")\n",
    "churn_rate"
   ]
  },
  {
   "cell_type": "code",
   "execution_count": 26,
   "id": "3d756011",
   "metadata": {
    "colab": {
     "base_uri": "https://localhost:8080/",
     "height": 148
    },
    "id": "3d756011",
    "outputId": "3c7cf4f7-4d55-4e00-d03f-a5e5d28dc5e4"
   },
   "outputs": [
    {
     "name": "stdout",
     "output_type": "stream",
     "text": [
      "\n",
      "Gender Churn Rate:\n"
     ]
    },
    {
     "data": {
      "text/html": [
       "<div>\n",
       "<style scoped>\n",
       "    .dataframe tbody tr th:only-of-type {\n",
       "        vertical-align: middle;\n",
       "    }\n",
       "\n",
       "    .dataframe tbody tr th {\n",
       "        vertical-align: top;\n",
       "    }\n",
       "\n",
       "    .dataframe thead th {\n",
       "        text-align: right;\n",
       "    }\n",
       "</style>\n",
       "<table border=\"1\" class=\"dataframe\">\n",
       "  <thead>\n",
       "    <tr style=\"text-align: right;\">\n",
       "      <th>Churn</th>\n",
       "      <th>No</th>\n",
       "      <th>Yes</th>\n",
       "      <th>total</th>\n",
       "      <th>Churn_rate</th>\n",
       "    </tr>\n",
       "    <tr>\n",
       "      <th>gender</th>\n",
       "      <th></th>\n",
       "      <th></th>\n",
       "      <th></th>\n",
       "      <th></th>\n",
       "    </tr>\n",
       "  </thead>\n",
       "  <tbody>\n",
       "    <tr>\n",
       "      <th>Female</th>\n",
       "      <td>2544</td>\n",
       "      <td>939</td>\n",
       "      <td>3483</td>\n",
       "      <td>26.96</td>\n",
       "    </tr>\n",
       "    <tr>\n",
       "      <th>Male</th>\n",
       "      <td>2619</td>\n",
       "      <td>930</td>\n",
       "      <td>3549</td>\n",
       "      <td>26.20</td>\n",
       "    </tr>\n",
       "  </tbody>\n",
       "</table>\n",
       "</div>"
      ],
      "text/plain": [
       "Churn     No  Yes  total  Churn_rate\n",
       "gender                              \n",
       "Female  2544  939   3483       26.96\n",
       "Male    2619  930   3549       26.20"
      ]
     },
     "execution_count": 26,
     "metadata": {},
     "output_type": "execute_result"
    }
   ],
   "source": [
    "# Calculate the percentage of customers who churned based on gender\n",
    "gender_churn_rate = data.groupby(['gender', 'Churn'])['Churn'].count().unstack()\n",
    "gender_churn_rate['total'] = gender_churn_rate.sum(axis=1)\n",
    "gender_churn_rate['Churn_rate'] = round(gender_churn_rate['Yes'] / gender_churn_rate['total'] * 100, 2)\n",
    "print(\"\\nGender Churn Rate:\")\n",
    "gender_churn_rate"
   ]
  },
  {
   "cell_type": "code",
   "execution_count": 27,
   "id": "b04ba714",
   "metadata": {
    "colab": {
     "base_uri": "https://localhost:8080/",
     "height": 161
    },
    "id": "b04ba714",
    "outputId": "392ff692-fe1d-445b-a96e-ccbe689529a1"
   },
   "outputs": [
    {
     "name": "stdout",
     "output_type": "stream",
     "text": [
      "Senior Citizen Churn Rate:\n"
     ]
    },
    {
     "data": {
      "text/html": [
       "<div>\n",
       "<style scoped>\n",
       "    .dataframe tbody tr th:only-of-type {\n",
       "        vertical-align: middle;\n",
       "    }\n",
       "\n",
       "    .dataframe tbody tr th {\n",
       "        vertical-align: top;\n",
       "    }\n",
       "\n",
       "    .dataframe thead th {\n",
       "        text-align: right;\n",
       "    }\n",
       "</style>\n",
       "<table border=\"1\" class=\"dataframe\">\n",
       "  <thead>\n",
       "    <tr style=\"text-align: right;\">\n",
       "      <th>Churn</th>\n",
       "      <th>No</th>\n",
       "      <th>Yes</th>\n",
       "      <th>total</th>\n",
       "      <th>Churn_rate</th>\n",
       "    </tr>\n",
       "    <tr>\n",
       "      <th>SeniorCitizen</th>\n",
       "      <th></th>\n",
       "      <th></th>\n",
       "      <th></th>\n",
       "      <th></th>\n",
       "    </tr>\n",
       "  </thead>\n",
       "  <tbody>\n",
       "    <tr>\n",
       "      <th>0</th>\n",
       "      <td>4497</td>\n",
       "      <td>1393</td>\n",
       "      <td>5890</td>\n",
       "      <td>23.65</td>\n",
       "    </tr>\n",
       "    <tr>\n",
       "      <th>1</th>\n",
       "      <td>666</td>\n",
       "      <td>476</td>\n",
       "      <td>1142</td>\n",
       "      <td>41.68</td>\n",
       "    </tr>\n",
       "  </tbody>\n",
       "</table>\n",
       "</div>"
      ],
      "text/plain": [
       "Churn            No   Yes  total  Churn_rate\n",
       "SeniorCitizen                               \n",
       "0              4497  1393   5890       23.65\n",
       "1               666   476   1142       41.68"
      ]
     },
     "execution_count": 27,
     "metadata": {},
     "output_type": "execute_result"
    }
   ],
   "source": [
    "# Calculate the percentage of customers who churned based on senior citizen status\n",
    "senior_churn_rate = data.groupby(['SeniorCitizen', 'Churn'])['Churn'].count().unstack()\n",
    "senior_churn_rate['total'] = senior_churn_rate.sum(axis=1)\n",
    "senior_churn_rate['Churn_rate'] = round(senior_churn_rate['Yes'] / senior_churn_rate['total'] * 100, 2)\n",
    "print(\"Senior Citizen Churn Rate:\")\n",
    "senior_churn_rate"
   ]
  },
  {
   "cell_type": "code",
   "execution_count": 28,
   "id": "6708d89e",
   "metadata": {
    "colab": {
     "base_uri": "https://localhost:8080/",
     "height": 161
    },
    "id": "6708d89e",
    "outputId": "d1a9b275-d54a-4d7a-dbde-4bb039aa1e0b"
   },
   "outputs": [
    {
     "name": "stdout",
     "output_type": "stream",
     "text": [
      "Partner Churn Rate:\n"
     ]
    },
    {
     "data": {
      "text/html": [
       "<div>\n",
       "<style scoped>\n",
       "    .dataframe tbody tr th:only-of-type {\n",
       "        vertical-align: middle;\n",
       "    }\n",
       "\n",
       "    .dataframe tbody tr th {\n",
       "        vertical-align: top;\n",
       "    }\n",
       "\n",
       "    .dataframe thead th {\n",
       "        text-align: right;\n",
       "    }\n",
       "</style>\n",
       "<table border=\"1\" class=\"dataframe\">\n",
       "  <thead>\n",
       "    <tr style=\"text-align: right;\">\n",
       "      <th>Churn</th>\n",
       "      <th>No</th>\n",
       "      <th>Yes</th>\n",
       "      <th>total</th>\n",
       "      <th>Churn_rate</th>\n",
       "    </tr>\n",
       "    <tr>\n",
       "      <th>Partner</th>\n",
       "      <th></th>\n",
       "      <th></th>\n",
       "      <th></th>\n",
       "      <th></th>\n",
       "    </tr>\n",
       "  </thead>\n",
       "  <tbody>\n",
       "    <tr>\n",
       "      <th>No</th>\n",
       "      <td>2439</td>\n",
       "      <td>1200</td>\n",
       "      <td>3639</td>\n",
       "      <td>32.98</td>\n",
       "    </tr>\n",
       "    <tr>\n",
       "      <th>Yes</th>\n",
       "      <td>2724</td>\n",
       "      <td>669</td>\n",
       "      <td>3393</td>\n",
       "      <td>19.72</td>\n",
       "    </tr>\n",
       "  </tbody>\n",
       "</table>\n",
       "</div>"
      ],
      "text/plain": [
       "Churn      No   Yes  total  Churn_rate\n",
       "Partner                               \n",
       "No       2439  1200   3639       32.98\n",
       "Yes      2724   669   3393       19.72"
      ]
     },
     "execution_count": 28,
     "metadata": {},
     "output_type": "execute_result"
    }
   ],
   "source": [
    "# Calculate the percentage of customers who churned based on partner status\n",
    "partner_churn_rate = data.groupby(['Partner', 'Churn'])['Churn'].count().unstack()\n",
    "partner_churn_rate['total'] = partner_churn_rate.sum(axis=1)\n",
    "partner_churn_rate['Churn_rate'] = round(partner_churn_rate['Yes'] / partner_churn_rate['total'] * 100, 2)\n",
    "print(\"Partner Churn Rate:\")\n",
    "partner_churn_rate"
   ]
  },
  {
   "cell_type": "code",
   "execution_count": 29,
   "id": "9aee6014",
   "metadata": {
    "colab": {
     "base_uri": "https://localhost:8080/",
     "height": 161
    },
    "id": "9aee6014",
    "outputId": "804e57b1-7489-47ae-818b-987a7e51ca98"
   },
   "outputs": [
    {
     "name": "stdout",
     "output_type": "stream",
     "text": [
      "Dependent Churn Rate:\n"
     ]
    },
    {
     "data": {
      "text/html": [
       "<div>\n",
       "<style scoped>\n",
       "    .dataframe tbody tr th:only-of-type {\n",
       "        vertical-align: middle;\n",
       "    }\n",
       "\n",
       "    .dataframe tbody tr th {\n",
       "        vertical-align: top;\n",
       "    }\n",
       "\n",
       "    .dataframe thead th {\n",
       "        text-align: right;\n",
       "    }\n",
       "</style>\n",
       "<table border=\"1\" class=\"dataframe\">\n",
       "  <thead>\n",
       "    <tr style=\"text-align: right;\">\n",
       "      <th>Churn</th>\n",
       "      <th>No</th>\n",
       "      <th>Yes</th>\n",
       "      <th>total</th>\n",
       "      <th>Churn_rate</th>\n",
       "    </tr>\n",
       "    <tr>\n",
       "      <th>Dependents</th>\n",
       "      <th></th>\n",
       "      <th></th>\n",
       "      <th></th>\n",
       "      <th></th>\n",
       "    </tr>\n",
       "  </thead>\n",
       "  <tbody>\n",
       "    <tr>\n",
       "      <th>No</th>\n",
       "      <td>3390</td>\n",
       "      <td>1543</td>\n",
       "      <td>4933</td>\n",
       "      <td>31.28</td>\n",
       "    </tr>\n",
       "    <tr>\n",
       "      <th>Yes</th>\n",
       "      <td>1773</td>\n",
       "      <td>326</td>\n",
       "      <td>2099</td>\n",
       "      <td>15.53</td>\n",
       "    </tr>\n",
       "  </tbody>\n",
       "</table>\n",
       "</div>"
      ],
      "text/plain": [
       "Churn         No   Yes  total  Churn_rate\n",
       "Dependents                               \n",
       "No          3390  1543   4933       31.28\n",
       "Yes         1773   326   2099       15.53"
      ]
     },
     "execution_count": 29,
     "metadata": {},
     "output_type": "execute_result"
    }
   ],
   "source": [
    "# Calculate the percentage of customers who churned based on dependent status\n",
    "dependent_churn_rate = data.groupby(['Dependents', 'Churn'])['Churn'].count().unstack()\n",
    "dependent_churn_rate['total'] = dependent_churn_rate.sum(axis=1)\n",
    "dependent_churn_rate['Churn_rate'] = round(dependent_churn_rate['Yes'] / dependent_churn_rate['total'] * 100,2)\n",
    "print(\"Dependent Churn Rate:\")\n",
    "dependent_churn_rate"
   ]
  },
  {
   "cell_type": "code",
   "execution_count": 30,
   "id": "9ff4e111",
   "metadata": {
    "colab": {
     "base_uri": "https://localhost:8080/",
     "height": 726
    },
    "id": "9ff4e111",
    "outputId": "63c8414e-0213-4573-8ff7-3e3b7e7b5347"
   },
   "outputs": [
    {
     "data": {
      "image/png": "[encoded data removed]",
      "text/plain": [
       "<Figure size 864x576 with 4 Axes>"
      ]
     },
     "metadata": {
      "needs_background": "light"
     },
     "output_type": "display_data"
    }
   ],
   "source": [
    "# Create a grid of plots for customer demographics\n",
    "fig, ax = plt.subplots(nrows=2, ncols=2, figsize=(12, 8))\n",
    "sns.countplot(x='gender', hue='Churn', data=data, ax=ax[0][0])\n",
    "sns.countplot(x='SeniorCitizen', hue='Churn', data=data, ax=ax[0][1])\n",
    "sns.countplot(x='Partner', hue='Churn', data=data, ax=ax[1][0])\n",
    "sns.countplot(x='Dependents', hue='Churn', data=data, ax=ax[1][1])\n",
    "plt.subplots_adjust(hspace=0.3, top=0.93)\n",
    "plt.suptitle('Customer Demographics and Churn')\n",
    "plt.show()"
   ]
  },
  {
   "cell_type": "markdown",
   "id": "e89e6a27",
   "metadata": {
    "id": "e89e6a27"
   },
   "source": [
    "*The senior citizen and gender doesn't have a strong relationship with churn column. Customer's having no partner or no dependent has highly likely to chrun as compared to those have partners or dependents.*"
   ]
  },
  {
   "cell_type": "markdown",
   "id": "6690b304",
   "metadata": {
    "id": "6690b304"
   },
   "source": [
    "#### 6.6 CHURN ANALYSIS BASED ON SERVICE TAKEN BY CUSTOMERS"
   ]
  },
  {
   "cell_type": "code",
   "execution_count": 31,
   "id": "e2204a59",
   "metadata": {
    "colab": {
     "base_uri": "https://localhost:8080/",
     "height": 130
    },
    "id": "e2204a59",
    "outputId": "a1c69e37-c891-45d7-820d-5bd42cb90723"
   },
   "outputs": [
    {
     "name": "stdout",
     "output_type": "stream",
     "text": [
      "Phone Service Churn Rate:\n"
     ]
    },
    {
     "data": {
      "text/html": [
       "<div>\n",
       "<style scoped>\n",
       "    .dataframe tbody tr th:only-of-type {\n",
       "        vertical-align: middle;\n",
       "    }\n",
       "\n",
       "    .dataframe tbody tr th {\n",
       "        vertical-align: top;\n",
       "    }\n",
       "\n",
       "    .dataframe thead th {\n",
       "        text-align: right;\n",
       "    }\n",
       "</style>\n",
       "<table border=\"1\" class=\"dataframe\">\n",
       "  <thead>\n",
       "    <tr style=\"text-align: right;\">\n",
       "      <th>Churn</th>\n",
       "      <th>No</th>\n",
       "      <th>Yes</th>\n",
       "      <th>total</th>\n",
       "      <th>Churn_rate</th>\n",
       "    </tr>\n",
       "    <tr>\n",
       "      <th>PhoneService</th>\n",
       "      <th></th>\n",
       "      <th></th>\n",
       "      <th></th>\n",
       "      <th></th>\n",
       "    </tr>\n",
       "  </thead>\n",
       "  <tbody>\n",
       "    <tr>\n",
       "      <th>No</th>\n",
       "      <td>510</td>\n",
       "      <td>170</td>\n",
       "      <td>680</td>\n",
       "      <td>25.00</td>\n",
       "    </tr>\n",
       "    <tr>\n",
       "      <th>Yes</th>\n",
       "      <td>4653</td>\n",
       "      <td>1699</td>\n",
       "      <td>6352</td>\n",
       "      <td>26.75</td>\n",
       "    </tr>\n",
       "  </tbody>\n",
       "</table>\n",
       "</div>"
      ],
      "text/plain": [
       "Churn           No   Yes  total  Churn_rate\n",
       "PhoneService                               \n",
       "No             510   170    680       25.00\n",
       "Yes           4653  1699   6352       26.75"
      ]
     },
     "execution_count": 31,
     "metadata": {},
     "output_type": "execute_result"
    }
   ],
   "source": [
    "# Calculate the percentage of customers who churned based on PhoneService\n",
    "phone_churn_rate = data.groupby(['PhoneService', 'Churn'])['Churn'].count().unstack()\n",
    "phone_churn_rate['total'] = phone_churn_rate.sum(axis=1)\n",
    "phone_churn_rate['Churn_rate'] = round(phone_churn_rate['Yes'] / phone_churn_rate['total'] * 100, 2)\n",
    "print(\"Phone Service Churn Rate:\")\n",
    "phone_churn_rate"
   ]
  },
  {
   "cell_type": "code",
   "execution_count": 32,
   "id": "d9a40c19",
   "metadata": {
    "colab": {
     "base_uri": "https://localhost:8080/",
     "height": 161
    },
    "id": "d9a40c19",
    "outputId": "d5e33b27-3a1e-497a-b8d8-1643effcc1f0"
   },
   "outputs": [
    {
     "name": "stdout",
     "output_type": "stream",
     "text": [
      "Multiple Lines Churn Rate:\n"
     ]
    },
    {
     "data": {
      "text/html": [
       "<div>\n",
       "<style scoped>\n",
       "    .dataframe tbody tr th:only-of-type {\n",
       "        vertical-align: middle;\n",
       "    }\n",
       "\n",
       "    .dataframe tbody tr th {\n",
       "        vertical-align: top;\n",
       "    }\n",
       "\n",
       "    .dataframe thead th {\n",
       "        text-align: right;\n",
       "    }\n",
       "</style>\n",
       "<table border=\"1\" class=\"dataframe\">\n",
       "  <thead>\n",
       "    <tr style=\"text-align: right;\">\n",
       "      <th>Churn</th>\n",
       "      <th>No</th>\n",
       "      <th>Yes</th>\n",
       "      <th>total</th>\n",
       "      <th>Churn_rate</th>\n",
       "    </tr>\n",
       "    <tr>\n",
       "      <th>MultipleLines</th>\n",
       "      <th></th>\n",
       "      <th></th>\n",
       "      <th></th>\n",
       "      <th></th>\n",
       "    </tr>\n",
       "  </thead>\n",
       "  <tbody>\n",
       "    <tr>\n",
       "      <th>No</th>\n",
       "      <td>2536</td>\n",
       "      <td>849</td>\n",
       "      <td>3385</td>\n",
       "      <td>25.08</td>\n",
       "    </tr>\n",
       "    <tr>\n",
       "      <th>No phone service</th>\n",
       "      <td>510</td>\n",
       "      <td>170</td>\n",
       "      <td>680</td>\n",
       "      <td>25.00</td>\n",
       "    </tr>\n",
       "    <tr>\n",
       "      <th>Yes</th>\n",
       "      <td>2117</td>\n",
       "      <td>850</td>\n",
       "      <td>2967</td>\n",
       "      <td>28.65</td>\n",
       "    </tr>\n",
       "  </tbody>\n",
       "</table>\n",
       "</div>"
      ],
      "text/plain": [
       "Churn               No  Yes  total  Churn_rate\n",
       "MultipleLines                                 \n",
       "No                2536  849   3385       25.08\n",
       "No phone service   510  170    680       25.00\n",
       "Yes               2117  850   2967       28.65"
      ]
     },
     "execution_count": 32,
     "metadata": {},
     "output_type": "execute_result"
    }
   ],
   "source": [
    "# Calculate the percentage of customers who churned based on MultipleLines\n",
    "multi_churn_rate = data.groupby(['MultipleLines', 'Churn'])['Churn'].count().unstack()\n",
    "multi_churn_rate['total'] = multi_churn_rate.sum(axis=1)\n",
    "multi_churn_rate['Churn_rate'] = round(multi_churn_rate['Yes'] / multi_churn_rate['total'] * 100, 2)\n",
    "print(\"Multiple Lines Churn Rate:\")\n",
    "multi_churn_rate"
   ]
  },
  {
   "cell_type": "code",
   "execution_count": 33,
   "id": "56b17c5c",
   "metadata": {
    "colab": {
     "base_uri": "https://localhost:8080/",
     "height": 179
    },
    "id": "56b17c5c",
    "outputId": "6bbcc51c-6a83-4bdf-ace1-47cc07022bd7"
   },
   "outputs": [
    {
     "name": "stdout",
     "output_type": "stream",
     "text": [
      "\n",
      "Internet Service Churn Rate:\n"
     ]
    },
    {
     "data": {
      "text/html": [
       "<div>\n",
       "<style scoped>\n",
       "    .dataframe tbody tr th:only-of-type {\n",
       "        vertical-align: middle;\n",
       "    }\n",
       "\n",
       "    .dataframe tbody tr th {\n",
       "        vertical-align: top;\n",
       "    }\n",
       "\n",
       "    .dataframe thead th {\n",
       "        text-align: right;\n",
       "    }\n",
       "</style>\n",
       "<table border=\"1\" class=\"dataframe\">\n",
       "  <thead>\n",
       "    <tr style=\"text-align: right;\">\n",
       "      <th>Churn</th>\n",
       "      <th>No</th>\n",
       "      <th>Yes</th>\n",
       "      <th>total</th>\n",
       "      <th>Churn_rate</th>\n",
       "    </tr>\n",
       "    <tr>\n",
       "      <th>InternetService</th>\n",
       "      <th></th>\n",
       "      <th></th>\n",
       "      <th></th>\n",
       "      <th></th>\n",
       "    </tr>\n",
       "  </thead>\n",
       "  <tbody>\n",
       "    <tr>\n",
       "      <th>DSL</th>\n",
       "      <td>1957</td>\n",
       "      <td>459</td>\n",
       "      <td>2416</td>\n",
       "      <td>19.00</td>\n",
       "    </tr>\n",
       "    <tr>\n",
       "      <th>Fiber optic</th>\n",
       "      <td>1799</td>\n",
       "      <td>1297</td>\n",
       "      <td>3096</td>\n",
       "      <td>41.89</td>\n",
       "    </tr>\n",
       "    <tr>\n",
       "      <th>No</th>\n",
       "      <td>1407</td>\n",
       "      <td>113</td>\n",
       "      <td>1520</td>\n",
       "      <td>7.43</td>\n",
       "    </tr>\n",
       "  </tbody>\n",
       "</table>\n",
       "</div>"
      ],
      "text/plain": [
       "Churn              No   Yes  total  Churn_rate\n",
       "InternetService                               \n",
       "DSL              1957   459   2416       19.00\n",
       "Fiber optic      1799  1297   3096       41.89\n",
       "No               1407   113   1520        7.43"
      ]
     },
     "execution_count": 33,
     "metadata": {},
     "output_type": "execute_result"
    }
   ],
   "source": [
    "# Calculate the percentage of customers who churned based on InternetService\n",
    "internet_churn_rate = data.groupby(['InternetService', 'Churn'])['Churn'].count().unstack()\n",
    "internet_churn_rate['total'] = internet_churn_rate.sum(axis=1)\n",
    "internet_churn_rate['Churn_rate'] = round(internet_churn_rate['Yes'] / internet_churn_rate['total'] * 100, 2)\n",
    "print(\"\\nInternet Service Churn Rate:\")\n",
    "internet_churn_rate"
   ]
  },
  {
   "cell_type": "code",
   "execution_count": 34,
   "id": "06cf72f7",
   "metadata": {
    "colab": {
     "base_uri": "https://localhost:8080/",
     "height": 179
    },
    "id": "06cf72f7",
    "outputId": "7db3b641-3d19-4c09-d5b8-52ea92c4647d"
   },
   "outputs": [
    {
     "name": "stdout",
     "output_type": "stream",
     "text": [
      "\n",
      "Streaming TV Churn Rate:\n"
     ]
    },
    {
     "data": {
      "text/html": [
       "<div>\n",
       "<style scoped>\n",
       "    .dataframe tbody tr th:only-of-type {\n",
       "        vertical-align: middle;\n",
       "    }\n",
       "\n",
       "    .dataframe tbody tr th {\n",
       "        vertical-align: top;\n",
       "    }\n",
       "\n",
       "    .dataframe thead th {\n",
       "        text-align: right;\n",
       "    }\n",
       "</style>\n",
       "<table border=\"1\" class=\"dataframe\">\n",
       "  <thead>\n",
       "    <tr style=\"text-align: right;\">\n",
       "      <th>Churn</th>\n",
       "      <th>No</th>\n",
       "      <th>Yes</th>\n",
       "      <th>total</th>\n",
       "      <th>Churn_rate</th>\n",
       "    </tr>\n",
       "    <tr>\n",
       "      <th>StreamingTV</th>\n",
       "      <th></th>\n",
       "      <th></th>\n",
       "      <th></th>\n",
       "      <th></th>\n",
       "    </tr>\n",
       "  </thead>\n",
       "  <tbody>\n",
       "    <tr>\n",
       "      <th>No</th>\n",
       "      <td>1867</td>\n",
       "      <td>942</td>\n",
       "      <td>2809</td>\n",
       "      <td>33.54</td>\n",
       "    </tr>\n",
       "    <tr>\n",
       "      <th>No internet service</th>\n",
       "      <td>1407</td>\n",
       "      <td>113</td>\n",
       "      <td>1520</td>\n",
       "      <td>7.43</td>\n",
       "    </tr>\n",
       "    <tr>\n",
       "      <th>Yes</th>\n",
       "      <td>1889</td>\n",
       "      <td>814</td>\n",
       "      <td>2703</td>\n",
       "      <td>30.11</td>\n",
       "    </tr>\n",
       "  </tbody>\n",
       "</table>\n",
       "</div>"
      ],
      "text/plain": [
       "Churn                  No  Yes  total  Churn_rate\n",
       "StreamingTV                                      \n",
       "No                   1867  942   2809       33.54\n",
       "No internet service  1407  113   1520        7.43\n",
       "Yes                  1889  814   2703       30.11"
      ]
     },
     "execution_count": 34,
     "metadata": {},
     "output_type": "execute_result"
    }
   ],
   "source": [
    "# Calculate the percentage of customers who churned based on StreamingTV\n",
    "stream_tv_churn_rate = data.groupby(['StreamingTV', 'Churn'])['Churn'].count().unstack()\n",
    "stream_tv_churn_rate['total'] = stream_tv_churn_rate.sum(axis=1)\n",
    "stream_tv_churn_rate['Churn_rate'] = round(stream_tv_churn_rate['Yes'] / stream_tv_churn_rate['total'] * 100, 2)\n",
    "print(\"\\nStreaming TV Churn Rate:\")\n",
    "stream_tv_churn_rate"
   ]
  },
  {
   "cell_type": "code",
   "execution_count": 35,
   "id": "79c3a07d",
   "metadata": {
    "colab": {
     "base_uri": "https://localhost:8080/",
     "height": 179
    },
    "id": "79c3a07d",
    "outputId": "8a3cc3b6-2ae3-433b-a8d8-b61715c86c05"
   },
   "outputs": [
    {
     "name": "stdout",
     "output_type": "stream",
     "text": [
      "\n",
      "Streaming Movies Churn Rate:\n"
     ]
    },
    {
     "data": {
      "text/html": [
       "<div>\n",
       "<style scoped>\n",
       "    .dataframe tbody tr th:only-of-type {\n",
       "        vertical-align: middle;\n",
       "    }\n",
       "\n",
       "    .dataframe tbody tr th {\n",
       "        vertical-align: top;\n",
       "    }\n",
       "\n",
       "    .dataframe thead th {\n",
       "        text-align: right;\n",
       "    }\n",
       "</style>\n",
       "<table border=\"1\" class=\"dataframe\">\n",
       "  <thead>\n",
       "    <tr style=\"text-align: right;\">\n",
       "      <th>Churn</th>\n",
       "      <th>No</th>\n",
       "      <th>Yes</th>\n",
       "      <th>total</th>\n",
       "      <th>Churn_rate</th>\n",
       "    </tr>\n",
       "    <tr>\n",
       "      <th>StreamingMovies</th>\n",
       "      <th></th>\n",
       "      <th></th>\n",
       "      <th></th>\n",
       "      <th></th>\n",
       "    </tr>\n",
       "  </thead>\n",
       "  <tbody>\n",
       "    <tr>\n",
       "      <th>No</th>\n",
       "      <td>1843</td>\n",
       "      <td>938</td>\n",
       "      <td>2781</td>\n",
       "      <td>33.73</td>\n",
       "    </tr>\n",
       "    <tr>\n",
       "      <th>No internet service</th>\n",
       "      <td>1407</td>\n",
       "      <td>113</td>\n",
       "      <td>1520</td>\n",
       "      <td>7.43</td>\n",
       "    </tr>\n",
       "    <tr>\n",
       "      <th>Yes</th>\n",
       "      <td>1913</td>\n",
       "      <td>818</td>\n",
       "      <td>2731</td>\n",
       "      <td>29.95</td>\n",
       "    </tr>\n",
       "  </tbody>\n",
       "</table>\n",
       "</div>"
      ],
      "text/plain": [
       "Churn                  No  Yes  total  Churn_rate\n",
       "StreamingMovies                                  \n",
       "No                   1843  938   2781       33.73\n",
       "No internet service  1407  113   1520        7.43\n",
       "Yes                  1913  818   2731       29.95"
      ]
     },
     "execution_count": 35,
     "metadata": {},
     "output_type": "execute_result"
    }
   ],
   "source": [
    "# Calculate the percentage of customers who churned based on StreamingMovies\n",
    "stream_movies_churn_rate = data.groupby(['StreamingMovies', 'Churn'])['Churn'].count().unstack()\n",
    "stream_movies_churn_rate['total'] = stream_movies_churn_rate.sum(axis=1)\n",
    "stream_movies_churn_rate['Churn_rate'] = round(stream_movies_churn_rate['Yes'] / stream_movies_churn_rate['total'] * 100, 2)\n",
    "print(\"\\nStreaming Movies Churn Rate:\")\n",
    "stream_movies_churn_rate"
   ]
  },
  {
   "cell_type": "code",
   "execution_count": 36,
   "id": "8f9ab89e",
   "metadata": {},
   "outputs": [
    {
     "data": {
      "image/png": "[encoded data removed]",
      "text/plain": [
       "<Figure size 1152x1008 with 5 Axes>"
      ]
     },
     "metadata": {
      "needs_background": "light"
     },
     "output_type": "display_data"
    }
   ],
   "source": [
    "# Create a grid of plots for services taken by customers\n",
    "\n",
    "plt.figure(figsize=(16, 14))\n",
    "\n",
    "features = ['PhoneService', 'MultipleLines', 'InternetService', 'StreamingTV', 'StreamingMovies']\n",
    "target = data['Churn']\n",
    "\n",
    "for i, col in enumerate(features):\n",
    "    plt.subplot( len(features),2, i+1)\n",
    "    x = data[col]\n",
    "    y = target\n",
    "    sns.countplot(x,hue=y, palette = 'Set2')\n",
    "    plt.xlabel(col)\n",
    "    plt.ylabel('Count')\n",
    "    plt.subplots_adjust(hspace=0.5, top=0.95)\n",
    "    plt.suptitle('Services taken by Customers and Churn', fontweight='bold')\n",
    "      "
   ]
  },
  {
   "cell_type": "markdown",
   "id": "143006ed",
   "metadata": {
    "id": "143006ed"
   },
   "source": [
    "*The below are the observations taken from the features which are related to services taken by customers.*\n",
    "\n",
    "1. Those customers who have taken Fibre Optics as the internet service are most likely to churn.\n",
    "2. Customer's having streaming and TV services has high customer churn as compared to those doesn't have any internet services."
   ]
  },
  {
   "cell_type": "code",
   "execution_count": 37,
   "id": "bf2ad000",
   "metadata": {},
   "outputs": [
    {
     "data": {
      "image/png": "[encoded data removed]",
      "text/plain": [
       "<Figure size 1132x360 with 3 Axes>"
      ]
     },
     "metadata": {
      "needs_background": "light"
     },
     "output_type": "display_data"
    }
   ],
   "source": [
    "# Multivariate Analysis\n",
    "sns.catplot(x='InternetService', hue='Churn', col='MultipleLines', data=data, kind='count',palette = 'Set1')\n",
    "plt.show()"
   ]
  },
  {
   "cell_type": "markdown",
   "id": "079fce10",
   "metadata": {
    "id": "079fce10"
   },
   "source": [
    "*Customers having Fibre optics and multiple line are high likely to churn.*"
   ]
  },
  {
   "cell_type": "markdown",
   "id": "08a88512",
   "metadata": {
    "id": "08a88512"
   },
   "source": [
    "#### 6.7 CHURN ANALYSIS BASED ON TENURE OF SERVICE"
   ]
  },
  {
   "cell_type": "code",
   "execution_count": 38,
   "id": "4995d585",
   "metadata": {
    "colab": {
     "base_uri": "https://localhost:8080/",
     "height": 325
    },
    "id": "4995d585",
    "outputId": "021e3e72-92f8-4865-e120-0a5a81e29823"
   },
   "outputs": [
    {
     "data": {
      "image/png": "[encoded data removed]",
      "text/plain": [
       "<Figure size 432x288 with 1 Axes>"
      ]
     },
     "metadata": {
      "needs_background": "light"
     },
     "output_type": "display_data"
    }
   ],
   "source": [
    "# Distribution of tenure for customers who churned and who didn't churn\n",
    "sns.histplot(data=data[data['Churn']=='Yes'], x='tenure', kde=True)\n",
    "sns.histplot(data=data[data['Churn']=='No'], x='tenure', kde=True, color = 'gray')\n",
    "plt.title('Distribution of tenure for customers who churned')\n",
    "plt.legend(['Yes', 'No'])\n",
    "plt.show()"
   ]
  },
  {
   "cell_type": "code",
   "execution_count": 39,
   "id": "97acc907",
   "metadata": {
    "colab": {
     "base_uri": "https://localhost:8080/",
     "height": 325
    },
    "id": "97acc907",
    "outputId": "2a0e8813-2676-4e09-dd8e-1aa562596ce1"
   },
   "outputs": [
    {
     "data": {
      "image/png": "[encoded data removed]",
      "text/plain": [
       "<Figure size 432x288 with 1 Axes>"
      ]
     },
     "metadata": {
      "needs_background": "light"
     },
     "output_type": "display_data"
    }
   ],
   "source": [
    "sns.boxplot(data=data, x='Churn', y='tenure')\n",
    "plt.title('Tenure vs Churn')\n",
    "plt.show()"
   ]
  },
  {
   "cell_type": "markdown",
   "id": "ca5c740c",
   "metadata": {
    "id": "ca5c740c"
   },
   "source": [
    "*From these plots, we can see that the customers who churned tend to have lower tenures compared to those who didn't churn. We can see that the median tenure for customers who churned is lower than that of customers who didn't churn.*"
   ]
  },
  {
   "cell_type": "code",
   "execution_count": 40,
   "id": "c6923c7a",
   "metadata": {
    "colab": {
     "base_uri": "https://localhost:8080/"
    },
    "id": "c6923c7a",
    "outputId": "5163db53-734d-42b0-91d0-3ef121366d7b"
   },
   "outputs": [
    {
     "name": "stdout",
     "output_type": "stream",
     "text": [
      "Tenure range 1: 48.54%\n",
      "Tenure range 2: 29.51%\n",
      "Tenure range 3: 22.03%\n",
      "Tenure range 4: 19.52%\n",
      "Tenure range 5: 15.0%\n",
      "Tenure range 6: 8.3%\n"
     ]
    }
   ],
   "source": [
    "# Create tenure ranges\n",
    "tenure_ranges = [(0, 12), (12, 24), (24, 36), (36, 48), (48, 60), (60, 72)]\n",
    "churn_rates = []\n",
    "\n",
    "# Calculate churn rate for each tenure range\n",
    "for i, tenure_range in enumerate(tenure_ranges):\n",
    "    churn_rate = data[(data['tenure'] >= tenure_range[0]) & (data['tenure'] < tenure_range[1])]['Churn_binary'].mean()\n",
    "    print(f\"Tenure range {i+1}: {round(churn_rate*100, 2)}%\")\n",
    "    churn_rates.append(round(churn_rate*100, 2))"
   ]
  },
  {
   "cell_type": "markdown",
   "id": "92c690de",
   "metadata": {
    "id": "92c690de"
   },
   "source": [
    "*We can see that the churn rate tends to be higher for customers with lower tenures.*"
   ]
  },
  {
   "cell_type": "markdown",
   "id": "6841a5ab",
   "metadata": {
    "id": "6841a5ab"
   },
   "source": [
    "#### 6.8 CHURN ANALYSIS BASED ON ONLINE SECURITY AND BACKUP"
   ]
  },
  {
   "cell_type": "code",
   "execution_count": 41,
   "id": "3411c1b3",
   "metadata": {
    "colab": {
     "base_uri": "https://localhost:8080/",
     "height": 325
    },
    "id": "3411c1b3",
    "outputId": "83205cd2-7540-481b-e095-fdd444dbcb83"
   },
   "outputs": [
    {
     "data": {
      "image/png": "[encoded data removed]",
      "text/plain": [
       "<Figure size 1008x288 with 1 Axes>"
      ]
     },
     "metadata": {
      "needs_background": "light"
     },
     "output_type": "display_data"
    }
   ],
   "source": [
    "# Creating a contingency table and visualize the results using a stacked bar chart\n",
    "table = pd.crosstab([data['OnlineSecurity'], data['OnlineBackup']], data['Churn'])\n",
    "\n",
    "table.plot(kind='bar', stacked=True, figsize=(14,4))\n",
    "plt.xticks(rotation=0)\n",
    "plt.xlabel('Online Security and Backup')\n",
    "plt.ylabel('Count')\n",
    "plt.legend(title='Churn', loc='upper right')\n",
    "plt.title('Churn by Online Security and Backup')\n",
    "plt.show()"
   ]
  },
  {
   "cell_type": "code",
   "execution_count": 47,
   "id": "7b2c1080",
   "metadata": {},
   "outputs": [
    {
     "data": {
      "image/png": "[encoded data removed]",
      "text/plain": [
       "<Figure size 1008x288 with 1 Axes>"
      ]
     },
     "metadata": {
      "needs_background": "light"
     },
     "output_type": "display_data"
    }
   ],
   "source": [
    "table = pd.crosstab([data['OnlineSecurity'], data['OnlineBackup']], data['Churn'])\n",
    "\n",
    "table.plot(kind='bar', stacked=False, figsize=(14,4))\n",
    "plt.xticks(rotation=0)\n",
    "plt.xlabel('Online Security and Backup')\n",
    "plt.ylabel('Count')\n",
    "plt.legend(title='Churn', loc='upper right')\n",
    "plt.title('Churn by Online Security and Backup')\n",
    "plt.show()"
   ]
  },
  {
   "cell_type": "code",
   "execution_count": 42,
   "id": "5810c065",
   "metadata": {
    "colab": {
     "base_uri": "https://localhost:8080/",
     "height": 224
    },
    "id": "5810c065",
    "outputId": "5811ff45-f16b-4493-c137-c14f3916735d"
   },
   "outputs": [
    {
     "name": "stdout",
     "output_type": "stream",
     "text": [
      "Online Security and Backup Churn Rate:\n"
     ]
    },
    {
     "data": {
      "text/html": [
       "<div>\n",
       "<style scoped>\n",
       "    .dataframe tbody tr th:only-of-type {\n",
       "        vertical-align: middle;\n",
       "    }\n",
       "\n",
       "    .dataframe tbody tr th {\n",
       "        vertical-align: top;\n",
       "    }\n",
       "\n",
       "    .dataframe thead th {\n",
       "        text-align: right;\n",
       "    }\n",
       "</style>\n",
       "<table border=\"1\" class=\"dataframe\">\n",
       "  <thead>\n",
       "    <tr style=\"text-align: right;\">\n",
       "      <th></th>\n",
       "      <th>Churn</th>\n",
       "      <th>No</th>\n",
       "      <th>Yes</th>\n",
       "      <th>total</th>\n",
       "      <th>churn_rate</th>\n",
       "    </tr>\n",
       "    <tr>\n",
       "      <th>OnlineSecurity</th>\n",
       "      <th>OnlineBackup</th>\n",
       "      <th></th>\n",
       "      <th></th>\n",
       "      <th></th>\n",
       "      <th></th>\n",
       "    </tr>\n",
       "  </thead>\n",
       "  <tbody>\n",
       "    <tr>\n",
       "      <th rowspan=\"2\" valign=\"top\">No</th>\n",
       "      <th>No</th>\n",
       "      <td>1138</td>\n",
       "      <td>1057</td>\n",
       "      <td>2195</td>\n",
       "      <td>48.15</td>\n",
       "    </tr>\n",
       "    <tr>\n",
       "      <th>Yes</th>\n",
       "      <td>898</td>\n",
       "      <td>404</td>\n",
       "      <td>1302</td>\n",
       "      <td>31.03</td>\n",
       "    </tr>\n",
       "    <tr>\n",
       "      <th>No internet service</th>\n",
       "      <th>No internet service</th>\n",
       "      <td>1407</td>\n",
       "      <td>113</td>\n",
       "      <td>1520</td>\n",
       "      <td>7.43</td>\n",
       "    </tr>\n",
       "    <tr>\n",
       "      <th rowspan=\"2\" valign=\"top\">Yes</th>\n",
       "      <th>No</th>\n",
       "      <td>716</td>\n",
       "      <td>176</td>\n",
       "      <td>892</td>\n",
       "      <td>19.73</td>\n",
       "    </tr>\n",
       "    <tr>\n",
       "      <th>Yes</th>\n",
       "      <td>1004</td>\n",
       "      <td>119</td>\n",
       "      <td>1123</td>\n",
       "      <td>10.60</td>\n",
       "    </tr>\n",
       "  </tbody>\n",
       "</table>\n",
       "</div>"
      ],
      "text/plain": [
       "Churn                                      No   Yes  total  churn_rate\n",
       "OnlineSecurity      OnlineBackup                                      \n",
       "No                  No                   1138  1057   2195       48.15\n",
       "                    Yes                   898   404   1302       31.03\n",
       "No internet service No internet service  1407   113   1520        7.43\n",
       "Yes                 No                    716   176    892       19.73\n",
       "                    Yes                  1004   119   1123       10.60"
      ]
     },
     "execution_count": 42,
     "metadata": {},
     "output_type": "execute_result"
    }
   ],
   "source": [
    "table['total'] = table.sum(axis=1)\n",
    "table['churn_rate'] = round(table['Yes'] / table['total'] * 100, 2)\n",
    "print(\"Online Security and Backup Churn Rate:\")\n",
    "table"
   ]
  },
  {
   "cell_type": "markdown",
   "id": "6f20f653",
   "metadata": {
    "id": "6f20f653"
   },
   "source": [
    "*From the chart, we can see that customers who do not have online security or backup are more likely to churn than those who have these services. Additionally, customers who have online security and backup are less likely to churn than those who have only one of these services or none at all.*"
   ]
  },
  {
   "cell_type": "markdown",
   "id": "a215743a",
   "metadata": {
    "id": "a215743a"
   },
   "source": [
    "#### 6.8 CHURN ANALYSIS BASED ON PAYMENT METHOD AND BIILING"
   ]
  },
  {
   "cell_type": "code",
   "execution_count": 43,
   "id": "a6a521a3",
   "metadata": {
    "colab": {
     "base_uri": "https://localhost:8080/",
     "height": 512
    },
    "id": "a6a521a3",
    "outputId": "f9320c51-c5a8-48c9-8fcc-1c6cefcadcbe"
   },
   "outputs": [
    {
     "name": "stdout",
     "output_type": "stream",
     "text": [
      "Churn                    No        Yes\n",
      "PaperlessBilling                      \n",
      "No                83.624302  16.375698\n",
      "Yes               66.410749  33.589251\n"
     ]
    },
    {
     "data": {
      "image/png": "[encoded data removed]",
      "text/plain": [
       "<Figure size 432x288 with 1 Axes>"
      ]
     },
     "metadata": {
      "needs_background": "light"
     },
     "output_type": "display_data"
    }
   ],
   "source": [
    "# create cross-tabulation table of PaperlessBilling and Churn\n",
    "paperless_churn = pd.crosstab(data['PaperlessBilling'], data['Churn'], normalize='index') * 100\n",
    "print(paperless_churn)\n",
    "\n",
    "# plot bar chart of churn rates for each category of PaperlessBilling\n",
    "ax = paperless_churn.plot(kind='bar', stacked=True, figsize=(6,4))\n",
    "plt.title('Churn Rates by Paperless Billing')\n",
    "plt.xlabel('Paperless Billing')\n",
    "plt.ylabel('Percentage of Customers')\n",
    "plt.xticks(rotation=0)\n",
    "plt.legend(title='Churn', loc='best')\n",
    "plt.show()"
   ]
  },
  {
   "cell_type": "code",
   "execution_count": 48,
   "id": "9915480e",
   "metadata": {},
   "outputs": [
    {
     "name": "stdout",
     "output_type": "stream",
     "text": [
      "Churn                    No        Yes\n",
      "PaperlessBilling                      \n",
      "No                83.624302  16.375698\n",
      "Yes               66.410749  33.589251\n"
     ]
    },
    {
     "data": {
      "image/png": "[encoded data removed]",
      "text/plain": [
       "<Figure size 432x288 with 1 Axes>"
      ]
     },
     "metadata": {
      "needs_background": "light"
     },
     "output_type": "display_data"
    }
   ],
   "source": [
    "# create cross-tabulation table of PaperlessBilling and Churn\n",
    "paperless_churn = pd.crosstab(data['PaperlessBilling'], data['Churn'], normalize='index') * 100\n",
    "print(paperless_churn)\n",
    "\n",
    "# plot bar chart of churn rates for each category of PaperlessBilling\n",
    "ax = paperless_churn.plot(kind='bar', stacked=False, figsize=(6,4))\n",
    "plt.title('Churn Rates by Paperless Billing')\n",
    "plt.xlabel('Paperless Billing')\n",
    "plt.ylabel('Percentage of Customers')\n",
    "plt.xticks(rotation=0)\n",
    "plt.legend(title='Churn', loc='best')\n",
    "plt.show()"
   ]
  },
  {
   "cell_type": "markdown",
   "id": "62874b85",
   "metadata": {
    "id": "62874b85"
   },
   "source": [
    "*Customers who use paperless billing are slightly more likely to churn. This suggests that the company should investigate why this is the case and consider offering incentives or other measures to encourage customers to switch to paperless billing.*"
   ]
  },
  {
   "cell_type": "code",
   "execution_count": 44,
   "id": "d5db1df2",
   "metadata": {
    "colab": {
     "base_uri": "https://localhost:8080/",
     "height": 548
    },
    "id": "d5db1df2",
    "outputId": "6c4be065-3c29-4597-a8f6-ff41e100cf70"
   },
   "outputs": [
    {
     "name": "stdout",
     "output_type": "stream",
     "text": [
      "Churn                             No        Yes\n",
      "PaymentMethod                                  \n",
      "Bank transfer (automatic)  83.268482  16.731518\n",
      "Credit card (automatic)    84.746877  15.253123\n",
      "Electronic check           54.714588  45.285412\n",
      "Mailed check               80.798005  19.201995\n"
     ]
    },
    {
     "data": {
      "image/png": "[encoded data removed]",
      "text/plain": [
       "<Figure size 1008x288 with 1 Axes>"
      ]
     },
     "metadata": {
      "needs_background": "light"
     },
     "output_type": "display_data"
    }
   ],
   "source": [
    "# create cross-tabulation table of PaymentMethod and Churn\n",
    "payment_churn = pd.crosstab(data['PaymentMethod'], data['Churn'], normalize='index') * 100\n",
    "print(payment_churn)\n",
    "\n",
    "\n",
    "# plot bar chart of churn rates for each category of PaymentMethod\n",
    "ax = payment_churn.plot(kind='bar', stacked=True, figsize=(14,4))\n",
    "plt.title('Churn Rates by Payment Method')\n",
    "plt.xlabel('Payment Method')\n",
    "plt.ylabel('Percentage of Customers')\n",
    "plt.xticks(rotation=0)\n",
    "plt.legend(title='Churn', loc=(1.05,0.5))\n",
    "plt.show()"
   ]
  },
  {
   "cell_type": "markdown",
   "id": "214067ca",
   "metadata": {
    "id": "214067ca"
   },
   "source": [
    "*Customers who pay by electronic check are more likely to churn than those who pay by other methods.*"
   ]
  },
  {
   "cell_type": "markdown",
   "id": "c35cb36e",
   "metadata": {
    "id": "c35cb36e"
   },
   "source": [
    "#### 6.9 CORRELATION ANALYSIS"
   ]
  },
  {
   "cell_type": "code",
   "execution_count": 45,
   "id": "8ff0f37c",
   "metadata": {
    "colab": {
     "base_uri": "https://localhost:8080/",
     "height": 479
    },
    "id": "8ff0f37c",
    "outputId": "713750aa-8eaf-4d90-b83e-54067c800cf5"
   },
   "outputs": [
    {
     "data": {
      "text/plain": [
       "Text(0.5, 1.0, 'Correlation Matrix')"
      ]
     },
     "execution_count": 45,
     "metadata": {},
     "output_type": "execute_result"
    },
    {
     "data": {
      "image/png": "[encoded data removed]",
      "text/plain": [
       "<Figure size 504x360 with 2 Axes>"
      ]
     },
     "metadata": {
      "needs_background": "light"
     },
     "output_type": "display_data"
    }
   ],
   "source": [
    "# get correalted values\n",
    "corr_df = data.corr()\n",
    "plt.figure(figsize=(7,5))\n",
    "sns.heatmap(corr_df, annot=True, cmap='magma')\n",
    "plt.title('Correlation Matrix')"
   ]
  },
  {
   "cell_type": "markdown",
   "id": "7d92629e",
   "metadata": {
    "id": "7d92629e"
   },
   "source": [
    "*There is a multi-collinearity present between total charges and tenure. It means with increase in tenure the customers tend to charged more. This might be the reason as customer stays longer with a telecom vendor they most likely to take other services as well.*"
   ]
  },
  {
   "cell_type": "markdown",
   "id": "435cc46d",
   "metadata": {
    "id": "435cc46d"
   },
   "source": [
    "#### 6.10 CHURN ANALYSIS WITH TOTAL CHARGES AND TENURE"
   ]
  },
  {
   "cell_type": "code",
   "execution_count": 46,
   "id": "ccc6bdbf",
   "metadata": {
    "colab": {
     "base_uri": "https://localhost:8080/",
     "height": 383
    },
    "id": "ccc6bdbf",
    "outputId": "ea16dd29-cb54-4c71-db12-a30aa5dfbb85",
    "scrolled": false
   },
   "outputs": [
    {
     "data": {
      "image/png": "[encoded data removed]",
      "text/plain": [
       "<Figure size 864x360 with 1 Axes>"
      ]
     },
     "metadata": {
      "needs_background": "light"
     },
     "output_type": "display_data"
    }
   ],
   "source": [
    "churn_colors = {'No': 'blue', 'Yes': 'red'}\n",
    "data['Churn_color'] = data['Churn'].map(churn_colors)\n",
    "\n",
    "plt.figure(figsize=(12,5))\n",
    "plt.scatter(data['tenure'], data['TotalCharges'], c=data['Churn_color'])\n",
    "plt.xlabel('Tenure (months)')\n",
    "plt.ylabel('Total Charges')\n",
    "plt.title('Tenure vs Total Charges by Churn Status')\n",
    "plt.show()\n",
    "\n",
    "# Drop churn color\n",
    "data = data.drop(columns = ['Churn_color'])"
   ]
  },
  {
   "cell_type": "markdown",
   "id": "c3604a6a",
   "metadata": {
    "id": "c3604a6a"
   },
   "source": [
    "*The customer churn rate is decreasing with increase in tenure and total charges. Most of the customers are retained with increase in tenure.*"
   ]
  },
  {
   "cell_type": "code",
   "execution_count": null,
   "id": "ac1f7bda",
   "metadata": {},
   "outputs": [],
   "source": []
  },
  {
   "cell_type": "code",
   "execution_count": null,
   "id": "8b32ab7c",
   "metadata": {},
   "outputs": [],
   "source": []
  }
 ],
 "metadata": {
  "accelerator": "GPU",
  "colab": {
   "collapsed_sections": [
    "61541b99",
    "56f19224",
    "d8bbfd15",
    "b7b38331",
    "6366518c"
   ],
   "provenance": []
  },
  "gpuClass": "standard",
  "kernelspec": {
   "display_name": "Python 3 (ipykernel)",
   "language": "python",
   "name": "python3"
  },
  "language_info": {
   "codemirror_mode": {
    "name": "ipython",
    "version": 3
   },
   "file_extension": ".py",
   "mimetype": "text/x-python",
   "name": "python",
   "nbconvert_exporter": "python",
   "pygments_lexer": "ipython3",
   "version": "3.9.7"
  }
 },
 "nbformat": 4,
 "nbformat_minor": 5
}
